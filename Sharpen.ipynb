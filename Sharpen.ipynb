{
  "cells": [
    {
      "cell_type": "markdown",
      "id": "7b20aca8",
      "metadata": {
        "id": "7b20aca8"
      },
      "source": [
        "# Sharpen\n",
        "Try to sharpen images"
      ]
    },
    {
      "cell_type": "code",
      "execution_count": 1,
      "id": "f0902a2a",
      "metadata": {
        "id": "f0902a2a",
        "outputId": "9c1526db-9ef6-49eb-f1bc-5ae5e5eb601e",
        "colab": {
          "base_uri": "https://localhost:8080/"
        }
      },
      "outputs": [
        {
          "output_type": "stream",
          "name": "stdout",
          "text": [
            "Mounted at /content/gdrive\n",
            "/content/gdrive/MyDrive/M_DV_V2022\n"
          ]
        }
      ],
      "source": [
        "from google.colab import drive\n",
        "drive.mount('/content/gdrive')\n",
        "%cd gdrive/MyDrive/M_DV_V2022"
      ]
    },
    {
      "cell_type": "markdown",
      "source": [
        "### Imports"
      ],
      "metadata": {
        "id": "hq-quEnV6nDI"
      },
      "id": "hq-quEnV6nDI"
    },
    {
      "cell_type": "code",
      "source": [
        "import numpy as np\n",
        "import matplotlib.pyplot as plt\n",
        "\n",
        "from sklearn.model_selection import train_test_split\n",
        "\n",
        "from keras.models import Sequential\n",
        "from keras.layers import Input, Dense, Conv2D, Flatten, \\\n",
        "                         UpSampling2D, Conv2DTranspose, MaxPooling2D"
      ],
      "metadata": {
        "id": "vcG1PYEO6leF"
      },
      "id": "vcG1PYEO6leF",
      "execution_count": 2,
      "outputs": []
    },
    {
      "cell_type": "markdown",
      "source": [
        "### Load data"
      ],
      "metadata": {
        "id": "98t0D2JX6tcC"
      },
      "id": "98t0D2JX6tcC"
    },
    {
      "cell_type": "code",
      "source": [
        "X = np.load(\"X_data.npy\")\n",
        "y = np.load(\"y_data.npy\")\n",
        "\n",
        "X_train, X_test, y_train, y_test = train_test_split(X, \n",
        "                                                    y, \n",
        "                                                    test_size=0.2, \n",
        "                                                    random_state=42)"
      ],
      "metadata": {
        "id": "uVlOpmjF6sug"
      },
      "id": "uVlOpmjF6sug",
      "execution_count": 5,
      "outputs": []
    },
    {
      "cell_type": "markdown",
      "source": [
        "### Make model"
      ],
      "metadata": {
        "id": "-OUSENL-66ux"
      },
      "id": "-OUSENL-66ux"
    },
    {
      "cell_type": "code",
      "source": [
        "model = Sequential()\n",
        "\n",
        "model.add(Input(shape=(60,60,1)))\n",
        "model.add(Conv2D(32, kernel_size=3, activation='relu',\n",
        "                     padding='valid'))\n",
        "model.add(MaxPooling2D(2))\n",
        "model.add(Conv2D(32, kernel_size=3, activation='relu',\n",
        "                padding='same'))\n",
        "model.add(UpSampling2D(5))\n",
        "model.add(Conv2D(32, kernel_size=3, activation='relu',\n",
        "                 padding='valid'))\n",
        "model.add(MaxPooling2D(2))\n",
        "model.add(UpSampling2D(2))\n",
        "\n",
        "model.add(Conv2D(1, kernel_size=3, activation='linear',\n",
        "                 padding='valid'))\n",
        "\n",
        "#model.add(Conv2DTranspose(32, kernel_size=3, padding=\"same\"))\n",
        "#model.add(UpSampling2D(3))\n",
        "\n",
        "model.summary()\n",
        "model.compile(optimizer='adam',\n",
        "              loss='mse')"
      ],
      "metadata": {
        "id": "fQnfE2T16waE",
        "outputId": "01434103-573a-43d7-c36a-94db9fbaf733",
        "colab": {
          "base_uri": "https://localhost:8080/"
        }
      },
      "id": "fQnfE2T16waE",
      "execution_count": 6,
      "outputs": [
        {
          "output_type": "stream",
          "name": "stdout",
          "text": [
            "Model: \"sequential\"\n",
            "_________________________________________________________________\n",
            " Layer (type)                Output Shape              Param #   \n",
            "=================================================================\n",
            " conv2d (Conv2D)             (None, 58, 58, 32)        320       \n",
            "                                                                 \n",
            " max_pooling2d (MaxPooling2D  (None, 29, 29, 32)       0         \n",
            " )                                                               \n",
            "                                                                 \n",
            " conv2d_1 (Conv2D)           (None, 29, 29, 32)        9248      \n",
            "                                                                 \n",
            " up_sampling2d (UpSampling2D  (None, 145, 145, 32)     0         \n",
            " )                                                               \n",
            "                                                                 \n",
            " conv2d_2 (Conv2D)           (None, 143, 143, 32)      9248      \n",
            "                                                                 \n",
            " max_pooling2d_1 (MaxPooling  (None, 71, 71, 32)       0         \n",
            " 2D)                                                             \n",
            "                                                                 \n",
            " up_sampling2d_1 (UpSampling  (None, 142, 142, 32)     0         \n",
            " 2D)                                                             \n",
            "                                                                 \n",
            " conv2d_3 (Conv2D)           (None, 140, 140, 1)       289       \n",
            "                                                                 \n",
            "=================================================================\n",
            "Total params: 19,105\n",
            "Trainable params: 19,105\n",
            "Non-trainable params: 0\n",
            "_________________________________________________________________\n"
          ]
        }
      ]
    },
    {
      "cell_type": "markdown",
      "source": [
        "## Train model"
      ],
      "metadata": {
        "id": "puvoQQRA7AiB"
      },
      "id": "puvoQQRA7AiB"
    },
    {
      "cell_type": "code",
      "source": [
        "history = model.fit(X_train,y_train,\n",
        "                    validation_data=(X_test,y_test),\n",
        "                    epochs=200, batch_size=10)"
      ],
      "metadata": {
        "id": "YZNKVX1Z6-Jd",
        "outputId": "f48740b7-c485-490e-f203-bf613e0a5d48",
        "colab": {
          "base_uri": "https://localhost:8080/"
        }
      },
      "id": "YZNKVX1Z6-Jd",
      "execution_count": null,
      "outputs": [
        {
          "output_type": "stream",
          "name": "stdout",
          "text": [
            "Epoch 1/200\n",
            "8/8 [==============================] - 7s 775ms/step - loss: 3337.8503 - val_loss: 3064.6707\n",
            "Epoch 2/200\n",
            "8/8 [==============================] - 6s 750ms/step - loss: 2853.8716 - val_loss: 2942.7241\n",
            "Epoch 3/200\n",
            "8/8 [==============================] - 6s 742ms/step - loss: 2765.1245 - val_loss: 2897.6831\n",
            "Epoch 4/200\n",
            "8/8 [==============================] - 6s 747ms/step - loss: 2697.0317 - val_loss: 2853.2749\n",
            "Epoch 5/200\n",
            "8/8 [==============================] - 6s 752ms/step - loss: 2637.0464 - val_loss: 2811.6304\n",
            "Epoch 6/200\n",
            "8/8 [==============================] - 6s 747ms/step - loss: 2601.8049 - val_loss: 2789.8225\n",
            "Epoch 7/200\n",
            "6/8 [=====================>........] - ETA: 1s - loss: 2611.8115"
          ]
        }
      ]
    },
    {
      "cell_type": "code",
      "source": [
        ""
      ],
      "metadata": {
        "id": "VbXJl-rA7D7m"
      },
      "id": "VbXJl-rA7D7m",
      "execution_count": null,
      "outputs": []
    }
  ],
  "metadata": {
    "kernelspec": {
      "display_name": "Python 3",
      "language": "python",
      "name": "python3"
    },
    "language_info": {
      "codemirror_mode": {
        "name": "ipython",
        "version": 3
      },
      "file_extension": ".py",
      "mimetype": "text/x-python",
      "name": "python",
      "nbconvert_exporter": "python",
      "pygments_lexer": "ipython3",
      "version": "3.7.7"
    },
    "colab": {
      "name": "Sharpen.ipynb",
      "provenance": []
    }
  },
  "nbformat": 4,
  "nbformat_minor": 5
}