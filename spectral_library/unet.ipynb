{
 "cells": [
  {
   "cell_type": "markdown",
   "id": "b0179d64",
   "metadata": {},
   "source": [
    "# U net on roof labels"
   ]
  },
  {
   "cell_type": "code",
   "execution_count": null,
   "id": "ffefbbf3",
   "metadata": {},
   "outputs": [],
   "source": [
    "from google.colab import drive\n",
    "drive.mount('/content/gdrive')\n",
    "%cd gdrive/MyDrive/M_DV_V2022"
   ]
  },
  {
   "cell_type": "code",
   "execution_count": null,
   "id": "010fe79b",
   "metadata": {},
   "outputs": [],
   "source": [
    "import numpy as np\n",
    "import matplotlib.pyplot as plt\n",
    "import seaborn as sns\n",
    "\n",
    "from sklearn.model_selection import train_test_split\n",
    "from sklearn.preprocessing import StandardScaler\n",
    "from sklearn.metrics import accuracy_score\n",
    "from sklearn.metrics import f1_score\n",
    "\n",
    "from keras.models import Sequential, Model\n",
    "from keras.layers import Input, Dense, Conv2D, Flatten, \\\n",
    "                         UpSampling2D, Conv2DTranspose, MaxPooling2D, \\\n",
    "                         Dropout, Concatenate, BatchNormalization, Activation, \\\n",
    "                         concatenate\n",
    "from tensorflow.keras.optimizers import Adam\n",
    "from tensorflow.image import resize\n",
    "\n",
    "import keras.backend as K\n",
    "import tensorflow as tf\n",
    "\n",
    "from unet_detection.models.vanilla_unet import vanilla_unet"
   ]
  },
  {
   "cell_type": "markdown",
   "id": "69542baa",
   "metadata": {},
   "source": [
    "## Load data"
   ]
  },
  {
   "cell_type": "code",
   "execution_count": null,
   "id": "ec772364",
   "metadata": {},
   "outputs": [],
   "source": [
    "X_train = np.load(\"data/spec_lib/X_data.npy\") \n",
    "X_70_train = np.load(\"data/spec_lib/X_70_data.npy\")\n",
    "y_train = np.load(\"data/spec_lib/y_data.npy\")\n",
    "\n",
    "X_val = np.load(\"data/spec_lib/X_data_val.npy\")\n",
    "X_70_val = np.load(\"data/spec_lib/X_70_data_val.npy\")\n",
    "y_val = np.load(\"data/spec_lib/y_data_val.npy\")\n",
    "\n",
    "X_test = np.load(\"data/spec_lib/X_data_test.npy\")\n",
    "X_70_test = np.load(\"data/spec_lib/X_70_data_test.npy\")\n",
    "y_test = np.load(\"data/spec_lib/y_data_test.npy\")"
   ]
  },
  {
   "cell_type": "code",
   "execution_count": null,
   "id": "3b85cfa1",
   "metadata": {},
   "outputs": [],
   "source": [
    "def redesign_y(y):\n",
    "  n,r1,c1,d = y.shape\n",
    "  # Adds a new dimension of layer too have two class problem.\n",
    "  yy = np.append(y, np.zeros((n, r1, c1,d)), axis=3)\n",
    "  for i in range(int(y.max()-1)):  \n",
    "    yy = np.append(yy, np.zeros((n, r1, c1,d)), axis=3)\n",
    "  #yy[yy >= 0.001] = 1\n",
    "  yy1 = yy.copy()\n",
    "  yy1[:,:,:,0] = 0 # reset map\n",
    "  for i in range(n):\n",
    "    values = yy[i,:,:,0]\n",
    "    for r in range(r1):\n",
    "      for c in range(c1):\n",
    "        value = yy[i,r,c,0]\n",
    "        yy1[i,r,c,int(value)] = 1\n",
    "\n",
    "  return yy1"
   ]
  },
  {
   "cell_type": "code",
   "execution_count": null,
   "id": "8870cdf9",
   "metadata": {},
   "outputs": [],
   "source": [
    "y_train = redesign_y(y_train)\n",
    "y_val = redesign_y(y_val)\n",
    "y_test = redesign_y(y_test)\n",
    "\n",
    "print(y_train.shape)\n",
    "print(y_val.shape)\n",
    "print(y_test.shape)"
   ]
  },
  {
   "cell_type": "markdown",
   "id": "753ef174",
   "metadata": {},
   "source": [
    "## Show 5 random images"
   ]
  },
  {
   "cell_type": "code",
   "execution_count": null,
   "id": "15b26a64",
   "metadata": {},
   "outputs": [],
   "source": [
    "fig, ax = plt.subplots(nrows=2, ncols=5, figsize = (25,15))\n",
    "\n",
    "indx = np.random.randint(0,high=X_train.shape[0],size=5)\n",
    "print(indx)\n",
    "for i in range(5):\n",
    "    ax[0,i].imshow(np.dstack((X_train[indx[i]][:,:,76],\n",
    "                              X_train[indx[i]][:,:,46],\n",
    "                              X_train[indx[i]][:,:,21])))\n",
    "    #ax[0,i].imshow(X_train[indx[i]][:,:,0:3])\n",
    "    #ax[1,i].imshow(X_70_train[indx[i]][:,:,0:3])\n",
    "    #ax[1,i].imshow(np.dstack((X_70_train[indx[i]][:,:,137],\n",
    "    #                          X_70_train[indx[i]][:,:,194],\n",
    "    #                          X_70_train[indx[i]][:,:,207])))\n",
    "    ax[1,i].imshow(y_train[indx[i]].argmax(axis=2))\n",
    "plt.show()"
   ]
  }
 ],
 "metadata": {
  "kernelspec": {
   "display_name": "Python 3",
   "language": "python",
   "name": "python3"
  },
  "language_info": {
   "codemirror_mode": {
    "name": "ipython",
    "version": 3
   },
   "file_extension": ".py",
   "mimetype": "text/x-python",
   "name": "python",
   "nbconvert_exporter": "python",
   "pygments_lexer": "ipython3",
   "version": "3.7.7"
  }
 },
 "nbformat": 4,
 "nbformat_minor": 5
}
