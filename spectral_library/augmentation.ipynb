{
 "cells": [
  {
   "cell_type": "markdown",
   "id": "e023bec5",
   "metadata": {},
   "source": [
    "# Augmentation on images"
   ]
  },
  {
   "cell_type": "code",
   "execution_count": 1,
   "id": "a77f9de7",
   "metadata": {},
   "outputs": [],
   "source": [
    "from google.colab import drive\n",
    "drive.mount('/content/gdrive')\n",
    "%cd gdrive/MyDrive/M_DV_V2022"
   ]
  },
  {
   "cell_type": "code",
   "execution_count": null,
   "id": "3b1b4584",
   "metadata": {},
   "outputs": [],
   "source": [
    "import matplotlib.pyplot as plt\n",
    "import numpy as np\n",
    "from spectral import imshow, ndvi\n",
    "from cv2 import Sobel, Laplacian, watershed\n",
    "import cv2 as cv\n",
    "\n",
    "import spectral\n",
    "from PIL import Image\n",
    "\n",
    "from tensorflow.keras.preprocessing.image import ImageDataGenerator"
   ]
  },
  {
   "cell_type": "markdown",
   "id": "961595b3",
   "metadata": {},
   "source": [
    "## Load data"
   ]
  },
  {
   "cell_type": "code",
   "execution_count": null,
   "id": "b393647b",
   "metadata": {},
   "outputs": [],
   "source": [
    "X_train = np.load(\"data/spec_lib/X_data.npy\") \n",
    "#X_70_train = np.load(\"data/spec_lib/X_70_data.npy\")\n",
    "y_train = np.load(\"data/spec_lib/y_data.npy\")\n",
    "\n",
    "X_val = np.load(\"data/spec_lib/X_data_val.npy\")\n",
    "#X_70_val = np.load(\"data/spec_lib/X_70_data_val.npy\")\n",
    "y_val = np.load(\"data/spec_lib/y_data_val.npy\")\n",
    "\n",
    "X_test = np.load(\"data/spec_lib/X_data_test.npy\")\n",
    "#X_70_test = np.load(\"data/spec_lib/X_70_data_test.npy\")\n",
    "y_test = np.load(\"data/spec_lib/y_data_test.npy\")"
   ]
  },
  {
   "cell_type": "code",
   "execution_count": null,
   "id": "1b9dc102",
   "metadata": {},
   "outputs": [],
   "source": [
    "def redesign_y(y):\n",
    "  n,r1,c1,d = y.shape\n",
    "  # Adds a new dimension of layer too have two class problem.\n",
    "  yy = np.append(y, np.zeros((n, r1, c1,d)), axis=3)\n",
    "  for i in range(int(y.max()-1)):  \n",
    "    yy = np.append(yy, np.zeros((n, r1, c1,d)), axis=3)\n",
    "  #yy[yy >= 0.001] = 1\n",
    "  yy1 = yy.copy()\n",
    "  yy1[:,:,:,0] = 0 # reset map\n",
    "  for i in range(n):\n",
    "    values = yy[i,:,:,0]\n",
    "    for r in range(r1):\n",
    "      for c in range(c1):\n",
    "        value = yy[i,r,c,0]\n",
    "        yy1[i,r,c,int(value)] = 1\n",
    "\n",
    "  return yy1"
   ]
  },
  {
   "cell_type": "code",
   "execution_count": null,
   "id": "410d661d",
   "metadata": {},
   "outputs": [],
   "source": [
    "y_train = redesign_y(y_train)\n",
    "y_val = redesign_y(y_val)\n",
    "y_test = redesign_y(y_test)\n",
    "\n",
    "print(y_train.shape)\n",
    "print(y_val.shape)\n",
    "print(y_test.shape)"
   ]
  },
  {
   "cell_type": "markdown",
   "id": "a66fb5d9",
   "metadata": {},
   "source": [
    "## Augmentation on data"
   ]
  },
  {
   "cell_type": "code",
   "execution_count": null,
   "id": "b7f4e3d0",
   "metadata": {},
   "outputs": [],
   "source": [
    "datagen = ImageDataGenerator()\n",
    "\n",
    "X_ = X[0:30]\n",
    "rgb = np.stack((X_[:,:,:,81], X_[:,:,:,46], X_[:,:,:,21]), axis=3)\n",
    "rgb[rgb>10000] = 10000\n",
    "rgb *= 0.0255\n"
   ]
  },
  {
   "cell_type": "code",
   "execution_count": null,
   "id": "febfe879",
   "metadata": {},
   "outputs": [],
   "source": [
    "a = datagen.apply_transform(X[0,:,:], {\"brightness\":5})"
   ]
  }
 ],
 "metadata": {
  "kernelspec": {
   "display_name": "Python 3",
   "language": "python",
   "name": "python3"
  },
  "language_info": {
   "codemirror_mode": {
    "name": "ipython",
    "version": 3
   },
   "file_extension": ".py",
   "mimetype": "text/x-python",
   "name": "python",
   "nbconvert_exporter": "python",
   "pygments_lexer": "ipython3",
   "version": "3.7.7"
  }
 },
 "nbformat": 4,
 "nbformat_minor": 5
}
