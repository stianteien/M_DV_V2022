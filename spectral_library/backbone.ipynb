{
 "cells": [
  {
   "cell_type": "markdown",
   "id": "357fbb14",
   "metadata": {},
   "source": [
    "# Semantic segmentation with backbone"
   ]
  },
  {
   "cell_type": "code",
   "execution_count": 1,
   "id": "de9e60a1",
   "metadata": {},
   "outputs": [
    {
     "name": "stdout",
     "output_type": "stream",
     "text": [
      "Segmentation Models: using `keras` framework.\n"
     ]
    }
   ],
   "source": [
    "from tensorflow import keras\n",
    "import segmentation_models as sm"
   ]
  },
  {
   "cell_type": "code",
   "execution_count": 5,
   "id": "4f5f4726",
   "metadata": {},
   "outputs": [],
   "source": [
    "model = sm.Unet(backbone_name='resnet34', encoder_weights=None, input_shape=(None, None, 399),\n",
    "                classes=11, activation='softmax')"
   ]
  },
  {
   "cell_type": "code",
   "execution_count": null,
   "id": "b02aef41",
   "metadata": {},
   "outputs": [],
   "source": []
  }
 ],
 "metadata": {
  "kernelspec": {
   "display_name": "Python 3",
   "language": "python",
   "name": "python3"
  },
  "language_info": {
   "codemirror_mode": {
    "name": "ipython",
    "version": 3
   },
   "file_extension": ".py",
   "mimetype": "text/x-python",
   "name": "python",
   "nbconvert_exporter": "python",
   "pygments_lexer": "ipython3",
   "version": "3.7.7"
  }
 },
 "nbformat": 4,
 "nbformat_minor": 5
}
