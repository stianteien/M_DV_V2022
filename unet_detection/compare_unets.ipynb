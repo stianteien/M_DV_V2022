{
 "cells": [
  {
   "cell_type": "markdown",
   "id": "72ea2b79",
   "metadata": {},
   "source": [
    "# Compare different unets on roof recognition\n",
    "normal unet - sharp unet - multiResUnet"
   ]
  },
  {
   "cell_type": "code",
   "execution_count": 1,
   "id": "6b3c6bc8",
   "metadata": {},
   "outputs": [],
   "source": [
    "import numpy as np\n",
    "import pandas as pd\n",
    "import matplotlib.pyplot as plt\n",
    "import seaborn as sns"
   ]
  },
  {
   "cell_type": "markdown",
   "id": "f27d450c",
   "metadata": {},
   "source": [
    "### Load data from simulations"
   ]
  },
  {
   "cell_type": "code",
   "execution_count": 4,
   "id": "121e5a16",
   "metadata": {},
   "outputs": [],
   "source": [
    "unet = np.load(\"unetmetric.npy\")\n",
    "sharpunet = np.load(\"sharpunetmetric.npy\")\n",
    "multiresnet = np.load(\"multiresunetmetric.npy\")"
   ]
  },
  {
   "cell_type": "code",
   "execution_count": 23,
   "id": "4333beec",
   "metadata": {},
   "outputs": [
    {
     "data": {
      "text/html": [
       "<div>\n",
       "<style scoped>\n",
       "    .dataframe tbody tr th:only-of-type {\n",
       "        vertical-align: middle;\n",
       "    }\n",
       "\n",
       "    .dataframe tbody tr th {\n",
       "        vertical-align: top;\n",
       "    }\n",
       "\n",
       "    .dataframe thead th {\n",
       "        text-align: right;\n",
       "    }\n",
       "</style>\n",
       "<table border=\"1\" class=\"dataframe\">\n",
       "  <thead>\n",
       "    <tr style=\"text-align: right;\">\n",
       "      <th></th>\n",
       "      <th>unet - F1_score</th>\n",
       "      <th>unet - accuracy</th>\n",
       "      <th>Sharp unet - F1_score</th>\n",
       "      <th>Sharp unet - accuracy</th>\n",
       "      <th>MultiResUnet - F1_score</th>\n",
       "      <th>MultiResUnet - accuracy</th>\n",
       "    </tr>\n",
       "  </thead>\n",
       "  <tbody>\n",
       "    <tr>\n",
       "      <th>0</th>\n",
       "      <td>0.543282</td>\n",
       "      <td>0.890661</td>\n",
       "      <td>0.752553</td>\n",
       "      <td>0.959578</td>\n",
       "      <td>0.708636</td>\n",
       "      <td>0.947924</td>\n",
       "    </tr>\n",
       "    <tr>\n",
       "      <th>1</th>\n",
       "      <td>0.665204</td>\n",
       "      <td>0.933071</td>\n",
       "      <td>0.651003</td>\n",
       "      <td>0.931988</td>\n",
       "      <td>0.759645</td>\n",
       "      <td>0.955464</td>\n",
       "    </tr>\n",
       "    <tr>\n",
       "      <th>2</th>\n",
       "      <td>0.610789</td>\n",
       "      <td>0.917110</td>\n",
       "      <td>0.624029</td>\n",
       "      <td>0.936706</td>\n",
       "      <td>0.648524</td>\n",
       "      <td>0.931148</td>\n",
       "    </tr>\n",
       "    <tr>\n",
       "      <th>3</th>\n",
       "      <td>0.622850</td>\n",
       "      <td>0.922752</td>\n",
       "      <td>0.589581</td>\n",
       "      <td>0.926822</td>\n",
       "      <td>0.715418</td>\n",
       "      <td>0.948623</td>\n",
       "    </tr>\n",
       "    <tr>\n",
       "      <th>4</th>\n",
       "      <td>0.586149</td>\n",
       "      <td>0.912516</td>\n",
       "      <td>0.579136</td>\n",
       "      <td>0.916472</td>\n",
       "      <td>0.618095</td>\n",
       "      <td>0.918400</td>\n",
       "    </tr>\n",
       "  </tbody>\n",
       "</table>\n",
       "</div>"
      ],
      "text/plain": [
       "   unet - F1_score  unet - accuracy  Sharp unet - F1_score  \\\n",
       "0         0.543282         0.890661               0.752553   \n",
       "1         0.665204         0.933071               0.651003   \n",
       "2         0.610789         0.917110               0.624029   \n",
       "3         0.622850         0.922752               0.589581   \n",
       "4         0.586149         0.912516               0.579136   \n",
       "\n",
       "   Sharp unet - accuracy  MultiResUnet - F1_score  MultiResUnet - accuracy  \n",
       "0               0.959578                 0.708636                 0.947924  \n",
       "1               0.931988                 0.759645                 0.955464  \n",
       "2               0.936706                 0.648524                 0.931148  \n",
       "3               0.926822                 0.715418                 0.948623  \n",
       "4               0.916472                 0.618095                 0.918400  "
      ]
     },
     "execution_count": 23,
     "metadata": {},
     "output_type": "execute_result"
    }
   ],
   "source": [
    "combs = np.vstack([unet, sharpunet, multiresnet]).T\n",
    "metrics_df = pd.DataFrame(combs, \n",
    "             columns=[\"unet - F1_score\",\n",
    "                      \"unet - accuracy\",\n",
    "                      \"Sharp unet - F1_score\",\n",
    "                      \"Sharp unet - accuracy\",\n",
    "                      \"MultiResUnet - F1_score\",\n",
    "                      \"MultiResUnet - accuracy\"])\n",
    "\n",
    "metrics_df"
   ]
  },
  {
   "cell_type": "code",
   "execution_count": 75,
   "id": "07560ebd",
   "metadata": {},
   "outputs": [
    {
     "data": {
      "image/png": "[encoded data removed]",
      "text/plain": [
       "<Figure size 432x288 with 1 Axes>"
      ]
     },
     "metadata": {},
     "output_type": "display_data"
    }
   ],
   "source": [
    "sns.set_theme(style=\"whitegrid\")\n",
    "sns.barplot(data=metrics_df,\n",
    "           order=[\"unet - F1_score\", \"Sharp unet - F1_score\", \"MultiResUnet - F1_score\",\n",
    "                  \"unet - accuracy\", \"Sharp unet - accuracy\", \"MultiResUnet - accuracy\"],\n",
    "           capsize=.2,\n",
    "           ci='sd')\n",
    "\n",
    "plt.yticks(np.arange(.5,1.01,.05))\n",
    "plt.ylim(0.5,1)\n",
    "plt.xticks(rotation=45, ha=\"right\")\n",
    "plt.ylabel(\"Score\")\n",
    "\n",
    "\n",
    "plt.show()"
   ]
  },
  {
   "cell_type": "code",
   "execution_count": 40,
   "id": "b7187a58",
   "metadata": {},
   "outputs": [
    {
     "data": {
      "text/html": [
       "<div>\n",
       "<style scoped>\n",
       "    .dataframe tbody tr th:only-of-type {\n",
       "        vertical-align: middle;\n",
       "    }\n",
       "\n",
       "    .dataframe tbody tr th {\n",
       "        vertical-align: top;\n",
       "    }\n",
       "\n",
       "    .dataframe thead th {\n",
       "        text-align: right;\n",
       "    }\n",
       "</style>\n",
       "<table border=\"1\" class=\"dataframe\">\n",
       "  <thead>\n",
       "    <tr style=\"text-align: right;\">\n",
       "      <th></th>\n",
       "      <th>unet - F1_score</th>\n",
       "      <th>unet - accuracy</th>\n",
       "      <th>Sharp unet - F1_score</th>\n",
       "      <th>Sharp unet - accuracy</th>\n",
       "      <th>MultiResUnet - F1_score</th>\n",
       "      <th>MultiResUnet - accuracy</th>\n",
       "    </tr>\n",
       "  </thead>\n",
       "  <tbody>\n",
       "    <tr>\n",
       "      <th>0</th>\n",
       "      <td>0.543282</td>\n",
       "      <td>0.890661</td>\n",
       "      <td>0.752553</td>\n",
       "      <td>0.959578</td>\n",
       "      <td>0.708636</td>\n",
       "      <td>0.947924</td>\n",
       "    </tr>\n",
       "    <tr>\n",
       "      <th>1</th>\n",
       "      <td>0.665204</td>\n",
       "      <td>0.933071</td>\n",
       "      <td>0.651003</td>\n",
       "      <td>0.931988</td>\n",
       "      <td>0.759645</td>\n",
       "      <td>0.955464</td>\n",
       "    </tr>\n",
       "    <tr>\n",
       "      <th>2</th>\n",
       "      <td>0.610789</td>\n",
       "      <td>0.917110</td>\n",
       "      <td>0.624029</td>\n",
       "      <td>0.936706</td>\n",
       "      <td>0.648524</td>\n",
       "      <td>0.931148</td>\n",
       "    </tr>\n",
       "    <tr>\n",
       "      <th>3</th>\n",
       "      <td>0.622850</td>\n",
       "      <td>0.922752</td>\n",
       "      <td>0.589581</td>\n",
       "      <td>0.926822</td>\n",
       "      <td>0.715418</td>\n",
       "      <td>0.948623</td>\n",
       "    </tr>\n",
       "    <tr>\n",
       "      <th>4</th>\n",
       "      <td>0.586149</td>\n",
       "      <td>0.912516</td>\n",
       "      <td>0.579136</td>\n",
       "      <td>0.916472</td>\n",
       "      <td>0.618095</td>\n",
       "      <td>0.918400</td>\n",
       "    </tr>\n",
       "  </tbody>\n",
       "</table>\n",
       "</div>"
      ],
      "text/plain": [
       "   unet - F1_score  unet - accuracy  Sharp unet - F1_score  \\\n",
       "0         0.543282         0.890661               0.752553   \n",
       "1         0.665204         0.933071               0.651003   \n",
       "2         0.610789         0.917110               0.624029   \n",
       "3         0.622850         0.922752               0.589581   \n",
       "4         0.586149         0.912516               0.579136   \n",
       "\n",
       "   Sharp unet - accuracy  MultiResUnet - F1_score  MultiResUnet - accuracy  \n",
       "0               0.959578                 0.708636                 0.947924  \n",
       "1               0.931988                 0.759645                 0.955464  \n",
       "2               0.936706                 0.648524                 0.931148  \n",
       "3               0.926822                 0.715418                 0.948623  \n",
       "4               0.916472                 0.618095                 0.918400  "
      ]
     },
     "execution_count": 40,
     "metadata": {},
     "output_type": "execute_result"
    }
   ],
   "source": [
    "metrics_df"
   ]
  },
  {
   "cell_type": "code",
   "execution_count": 68,
   "id": "689ab8ff",
   "metadata": {},
   "outputs": [
    {
     "data": {
      "text/plain": [
       "array([0.5, 0.6, 0.7, 0.8, 0.9, 1. ])"
      ]
     },
     "execution_count": 68,
     "metadata": {},
     "output_type": "execute_result"
    }
   ],
   "source": [
    "np.arange(.5,1.01,.1)"
   ]
  },
  {
   "cell_type": "code",
   "execution_count": null,
   "id": "55cbb5be",
   "metadata": {},
   "outputs": [],
   "source": []
  }
 ],
 "metadata": {
  "kernelspec": {
   "display_name": "Python 3",
   "language": "python",
   "name": "python3"
  },
  "language_info": {
   "codemirror_mode": {
    "name": "ipython",
    "version": 3
   },
   "file_extension": ".py",
   "mimetype": "text/x-python",
   "name": "python",
   "nbconvert_exporter": "python",
   "pygments_lexer": "ipython3",
   "version": "3.7.7"
  }
 },
 "nbformat": 4,
 "nbformat_minor": 5
}
