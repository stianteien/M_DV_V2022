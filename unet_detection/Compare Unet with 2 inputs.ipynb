{
  "cells": [
    {
      "cell_type": "markdown",
      "id": "8c54a2c3",
      "metadata": {
        "id": "8c54a2c3"
      },
      "source": [
        "# Compare Unets with 2 inputs\n",
        "\n",
        "Vanilla u net  \n",
        "Unet with 2 inputs  \n",
        "Unet with 2 inputs on different depth  \n",
        "Double U net  \n",
        "Triple U net"
      ]
    },
    {
      "cell_type": "code",
      "execution_count": 3,
      "id": "d36ddf31",
      "metadata": {
        "id": "d36ddf31",
        "outputId": "16b51f87-7d20-457d-d59e-32c6e51e459e",
        "colab": {
          "base_uri": "https://localhost:8080/"
        }
      },
      "outputs": [
        {
          "output_type": "stream",
          "name": "stdout",
          "text": [
            "Drive already mounted at /content/gdrive; to attempt to forcibly remount, call drive.mount(\"/content/gdrive\", force_remount=True).\n",
            "/content/gdrive/MyDrive/M_DV_V2022\n"
          ]
        }
      ],
      "source": [
        "from google.colab import drive\n",
        "drive.mount('/content/gdrive')\n",
        "%cd gdrive/MyDrive/M_DV_V2022"
      ]
    },
    {
      "cell_type": "code",
      "execution_count": 4,
      "id": "7157f587",
      "metadata": {
        "id": "7157f587"
      },
      "outputs": [],
      "source": [
        "import numpy as np\n",
        "import pandas as pd\n",
        "import matplotlib.pyplot as plt\n",
        "import seaborn as sns\n",
        "\n",
        "from tensorflow.keras.layers import Input \n",
        "\n",
        "from unet_detection.models.vanilla_unet import vanilla_unet\n",
        "from unet_detection.models.unet_2input import unet_2input\n",
        "from unet_detection.models.unet_2input_deep import unet_2input_deep\n",
        "from unet_detection.models.double_unet import double_unet\n",
        "from unet_detection.models.triple_unet import triple_unet"
      ]
    },
    {
      "cell_type": "markdown",
      "id": "4f0aba76",
      "metadata": {
        "id": "4f0aba76"
      },
      "source": [
        "### All nets"
      ]
    },
    {
      "cell_type": "code",
      "execution_count": 5,
      "id": "dddaa192",
      "metadata": {
        "id": "dddaa192"
      },
      "outputs": [],
      "source": [
        "seed = 123\n",
        "\n",
        "vUnet = vanilla_unet(seed)\n",
        "unet2i = unet_2input(seed)\n",
        "unet2i_d = unet_2input_deep(seed)\n",
        "dUnet = double_unet(seed)\n",
        "tUnet = triple_unet(seed)"
      ]
    },
    {
      "cell_type": "markdown",
      "id": "dcaaeb5f",
      "metadata": {
        "id": "dcaaeb5f"
      },
      "source": [
        "### Import data set and show"
      ]
    },
    {
      "cell_type": "code",
      "execution_count": 6,
      "id": "bdfd136e",
      "metadata": {
        "id": "bdfd136e"
      },
      "outputs": [],
      "source": [
        "X_train = np.load(\"data/u_net_roofs/X_data.npy\") \n",
        "X_70_train = np.load(\"data/u_net_roofs/X_70_data.npy\")\n",
        "y_train = np.load(\"data/u_net_roofs/y_data.npy\")\n",
        "\n",
        "X_val = np.load(\"data/u_net_roofs/X_data_val.npy\")\n",
        "X_70_val = np.load(\"data/u_net_roofs/X_70_data_val.npy\")\n",
        "y_val = np.load(\"data/u_net_roofs/y_data_val.npy\")\n",
        "\n",
        "X_test = np.load(\"data/u_net_roofs/X_data_test.npy\")\n",
        "X_70_test = np.load(\"data/u_net_roofs/X_70_data_test.npy\")\n",
        "y_test = np.load(\"data/u_net_roofs/y_data_test.npy\")"
      ]
    },
    {
      "cell_type": "code",
      "source": [
        "def redesign_y(y):\n",
        "  n,r1,c1,d = y.shape\n",
        "  # Adds a new dimension of layer too have two class problem.\n",
        "  yy = np.append(y, np.zeros((n, r1, c1,d)), axis=3)\n",
        "  for i in range(int(y.max()-1)):  \n",
        "    yy = np.append(yy, np.zeros((n, r1, c1,d)), axis=3)\n",
        "  yy1 = yy.copy()\n",
        "  yy1[:,:,:,0] = 0 # reset map\n",
        "  for i in range(n):\n",
        "    values = yy[i,:,:,0]\n",
        "    for r in range(r1):\n",
        "      for c in range(c1):\n",
        "        value = yy[i,r,c,0]\n",
        "        yy1[i,r,c,int(value)] = 1\n",
        "\n",
        "  return yy1"
      ],
      "metadata": {
        "id": "KyQwWrq47ZQa"
      },
      "id": "KyQwWrq47ZQa",
      "execution_count": 7,
      "outputs": []
    },
    {
      "cell_type": "code",
      "source": [
        "y_train = redesign_y(y_train)\n",
        "y_val = redesign_y(y_val)\n",
        "y_test = redesign_y(y_test)\n",
        "\n",
        "print(y_train.shape)\n",
        "print(y_val.shape)\n",
        "print(y_test.shape)"
      ],
      "metadata": {
        "id": "IVl6mTAd9Nwy",
        "outputId": "70a3cc4e-2f9d-4c15-e76e-64ee28ffff66",
        "colab": {
          "base_uri": "https://localhost:8080/"
        }
      },
      "id": "IVl6mTAd9Nwy",
      "execution_count": 8,
      "outputs": [
        {
          "output_type": "stream",
          "name": "stdout",
          "text": [
            "(100, 128, 128, 2)\n",
            "(20, 128, 128, 2)\n",
            "(50, 128, 128, 2)\n"
          ]
        }
      ]
    },
    {
      "cell_type": "code",
      "source": [
        "# Scale image down so each border is the same size when upsizing!\n",
        "X_70_train = X_70_train[:,4:-4,4:-4,:]\n",
        "X_70_val = X_70_val[:,4:-4,4:-4,:]\n",
        "X_70_test = X_70_test[:,4:-4,4:-4,:]"
      ],
      "metadata": {
        "id": "MHFyu4sr-pgg"
      },
      "id": "MHFyu4sr-pgg",
      "execution_count": 9,
      "outputs": []
    },
    {
      "cell_type": "markdown",
      "id": "cd2fc592",
      "metadata": {
        "id": "cd2fc592"
      },
      "source": [
        "### Set up nets"
      ]
    },
    {
      "cell_type": "code",
      "execution_count": 19,
      "id": "bb06416a",
      "metadata": {
        "id": "bb06416a"
      },
      "outputs": [],
      "source": [
        "input_img1 = Input(shape=(128,128,177))\n",
        "input_img2 = Input(shape=(56,56,220))\n",
        "\n",
        "model = dUnet.get_unet(input_img1, input_img2, n_classes=2, last_activation='softmax')\n",
        "\n",
        "model.compile(optimizer='adam',\n",
        "                 loss='binary_crossentropy',\n",
        "                 metrics=['accuracy'])"
      ]
    },
    {
      "cell_type": "markdown",
      "id": "3bc214f6",
      "metadata": {
        "id": "3bc214f6"
      },
      "source": [
        "## Run tests"
      ]
    },
    {
      "cell_type": "code",
      "execution_count": 20,
      "id": "6179cf57",
      "metadata": {
        "id": "6179cf57",
        "outputId": "d388c36c-57aa-45cd-f903-d4297b9654e1",
        "colab": {
          "base_uri": "https://localhost:8080/"
        }
      },
      "outputs": [
        {
          "output_type": "stream",
          "name": "stdout",
          "text": [
            "Epoch 1/10\n",
            "7/7 [==============================] - 7s 403ms/step - loss: 0.7134 - accuracy: 0.5669 - val_loss: 342.7741 - val_accuracy: 0.1269\n",
            "Epoch 2/10\n",
            "7/7 [==============================] - 1s 151ms/step - loss: 0.5331 - accuracy: 0.8690 - val_loss: 3532.6548 - val_accuracy: 0.1309\n",
            "Epoch 3/10\n",
            "7/7 [==============================] - 1s 172ms/step - loss: 0.4537 - accuracy: 0.9001 - val_loss: 250.4476 - val_accuracy: 0.1322\n",
            "Epoch 4/10\n",
            "7/7 [==============================] - 1s 161ms/step - loss: 0.3985 - accuracy: 0.9211 - val_loss: 1195.1451 - val_accuracy: 0.1268\n",
            "Epoch 5/10\n",
            "7/7 [==============================] - 1s 151ms/step - loss: 0.3704 - accuracy: 0.9255 - val_loss: 36.8153 - val_accuracy: 0.1292\n",
            "Epoch 6/10\n",
            "7/7 [==============================] - 1s 149ms/step - loss: 0.3525 - accuracy: 0.9277 - val_loss: 1548.6722 - val_accuracy: 0.1299\n",
            "Epoch 7/10\n",
            "7/7 [==============================] - 1s 154ms/step - loss: 0.3261 - accuracy: 0.9382 - val_loss: 135.9498 - val_accuracy: 0.1301\n",
            "Epoch 8/10\n",
            "7/7 [==============================] - 1s 144ms/step - loss: 0.3091 - accuracy: 0.9435 - val_loss: 6.4698 - val_accuracy: 0.4567\n",
            "Epoch 9/10\n",
            "7/7 [==============================] - 1s 148ms/step - loss: 0.2944 - accuracy: 0.9460 - val_loss: 2.9505 - val_accuracy: 0.6711\n",
            "Epoch 10/10\n",
            "7/7 [==============================] - 1s 138ms/step - loss: 0.2771 - accuracy: 0.9508 - val_loss: 1.7273 - val_accuracy: 0.7335\n"
          ]
        }
      ],
      "source": [
        "hhh = model.fit([X_train, X_70_train],\n",
        "               y_train, \n",
        "               validation_data=([X_val, X_70_val],y_val), \n",
        "               batch_size=16,\n",
        "               epochs=10)"
      ]
    },
    {
      "cell_type": "code",
      "source": [
        "plt.plot(h.history['loss'])\n",
        "plt.plot(hh.history['loss'])\n",
        "plt.plot(hhh.history['loss'])"
      ],
      "metadata": {
        "id": "CQCBTixd5_od",
        "outputId": "39c677c5-e890-4919-f1da-1ad001f23f9f",
        "colab": {
          "base_uri": "https://localhost:8080/",
          "height": 282
        }
      },
      "id": "CQCBTixd5_od",
      "execution_count": 21,
      "outputs": [
        {
          "output_type": "execute_result",
          "data": {
            "text/plain": [
              "[<matplotlib.lines.Line2D at 0x7f870ff52090>]"
            ]
          },
          "metadata": {},
          "execution_count": 21
        },
        {
          "output_type": "display_data",
          "data": {
            "image/png": "[encoded data removed]",
            "text/plain": [
              "<Figure size 432x288 with 1 Axes>"
            ]
          },
          "metadata": {
            "needs_background": "light"
          }
        }
      ]
    },
    {
      "cell_type": "code",
      "source": [
        ""
      ],
      "metadata": {
        "id": "oR98y4ee_C5a"
      },
      "id": "oR98y4ee_C5a",
      "execution_count": null,
      "outputs": []
    }
  ],
  "metadata": {
    "kernelspec": {
      "display_name": "Python 3",
      "language": "python",
      "name": "python3"
    },
    "language_info": {
      "codemirror_mode": {
        "name": "ipython",
        "version": 3
      },
      "file_extension": ".py",
      "mimetype": "text/x-python",
      "name": "python",
      "nbconvert_exporter": "python",
      "pygments_lexer": "ipython3",
      "version": "3.7.7"
    },
    "colab": {
      "name": "Compare Unet with 2 inputs.ipynb",
      "provenance": [],
      "machine_shape": "hm"
    },
    "accelerator": "GPU"
  },
  "nbformat": 4,
  "nbformat_minor": 5
}