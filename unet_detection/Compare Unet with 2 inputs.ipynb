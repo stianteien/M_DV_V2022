{
 "cells": [
  {
   "cell_type": "markdown",
   "id": "8c54a2c3",
   "metadata": {},
   "source": [
    "# Compare Unets with 2 inputs\n",
    "\n",
    "Vanilla u net  \n",
    "Unet with 2 inputs  \n",
    "Unet with 2 inputs on different depth  \n",
    "Double U net  \n",
    "Triple U net"
   ]
  },
  {
   "cell_type": "code",
   "execution_count": null,
   "id": "d36ddf31",
   "metadata": {},
   "outputs": [],
   "source": [
    "from google.colab import drive\n",
    "drive.mount('/content/gdrive')\n",
    "%cd gdrive/MyDrive/M_DV_V2022"
   ]
  },
  {
   "cell_type": "code",
   "execution_count": 1,
   "id": "7157f587",
   "metadata": {},
   "outputs": [],
   "source": [
    "import numpy as np\n",
    "import pandas as pd\n",
    "import matplotlib.pyplot as plt\n",
    "import seaborn as sns\n",
    "\n",
    "from tensorflow.keras.layers import Input \n",
    "\n",
    "from models.vanilla_unet import vanilla_unet\n",
    "from models.unet_2input import unet_2input\n",
    "from models.unet_2input_deep import unet_2input_deep\n",
    "from models.double_unet import double_unet\n",
    "from models.triple_unet import triple_unet"
   ]
  },
  {
   "cell_type": "markdown",
   "id": "4f0aba76",
   "metadata": {},
   "source": [
    "### All nets"
   ]
  },
  {
   "cell_type": "code",
   "execution_count": 2,
   "id": "dddaa192",
   "metadata": {},
   "outputs": [],
   "source": [
    "seed = 123\n",
    "\n",
    "vUnet = vanilla_unet(seed)\n",
    "unet2i = unet_2input(seed)\n",
    "unet2i_d = unet_2input_deep(seed)\n",
    "dUnet = double_unet(seed)\n",
    "tUnet = triple_unet(seed)"
   ]
  },
  {
   "cell_type": "markdown",
   "id": "dcaaeb5f",
   "metadata": {},
   "source": [
    "### Import data set and show"
   ]
  },
  {
   "cell_type": "code",
   "execution_count": null,
   "id": "bdfd136e",
   "metadata": {},
   "outputs": [],
   "source": [
    "X_train = np.load(\"data/u_net_roofs/X_data.npy\") \n",
    "X_70_train = np.load(\"data/u_net_roofs/X_70_data.npy\")\n",
    "y_train = np.load(\"data/u_net_roofs/y_data.npy\")\n",
    "\n",
    "X_val = np.load(\"data/u_net_roofs/X_data_val.npy\")\n",
    "X_70_val = np.load(\"data/u_net_roofs/X_70_data_val.npy\")\n",
    "y_val = np.load(\"data/u_net_roofs/y_data_val.npy\")\n",
    "\n",
    "X_test = np.load(\"data/u_net_roofs/X_data_test.npy\")\n",
    "X_70_test = np.load(\"data/u_net_roofs/X_70_data_test.npy\")\n",
    "y_test = np.load(\"data/u_net_roofs/y_data_test.npy\")"
   ]
  },
  {
   "cell_type": "markdown",
   "id": "cd2fc592",
   "metadata": {},
   "source": [
    "### Set up nets"
   ]
  },
  {
   "cell_type": "code",
   "execution_count": 3,
   "id": "bb06416a",
   "metadata": {},
   "outputs": [],
   "source": [
    "input_img1 = Input(shape=(128,128,177))\n",
    "input_img2 = Input(shape=(56,56,200))\n",
    "\n",
    "model = tUnet.get_unet(input_img1, input_img2, n_classes=2, last_activation='softmax')\n",
    "\n",
    "model.compile(optimizer='adam',\n",
    "                 loss='binary_crossentropy',\n",
    "                 metrics=['accuracy'])"
   ]
  },
  {
   "cell_type": "markdown",
   "id": "3bc214f6",
   "metadata": {},
   "source": [
    "## Run tests"
   ]
  },
  {
   "cell_type": "code",
   "execution_count": null,
   "id": "6179cf57",
   "metadata": {},
   "outputs": [],
   "source": [
    "h = model.fit([X_train, X_70_train],\n",
    "               y_train, \n",
    "               validation_data=([X_val, X_70_val],y_val), \n",
    "               batch_size=16,\n",
    "               epochs=300)"
   ]
  }
 ],
 "metadata": {
  "kernelspec": {
   "display_name": "Python 3",
   "language": "python",
   "name": "python3"
  },
  "language_info": {
   "codemirror_mode": {
    "name": "ipython",
    "version": 3
   },
   "file_extension": ".py",
   "mimetype": "text/x-python",
   "name": "python",
   "nbconvert_exporter": "python",
   "pygments_lexer": "ipython3",
   "version": "3.7.7"
  }
 },
 "nbformat": 4,
 "nbformat_minor": 5
}
