{
 "cells": [
  {
   "cell_type": "markdown",
   "id": "67256445",
   "metadata": {},
   "source": [
    "# Compare unets with multiple inputs\n",
    "Vanilla u net  \n",
    "Unet with 2 inputs  \n",
    "Unet with 2 inputs on different depth  \n",
    "Double U net  \n",
    "Triple U net  "
   ]
  },
  {
   "cell_type": "code",
   "execution_count": null,
   "id": "4defe0f7",
   "metadata": {},
   "outputs": [],
   "source": [
    "from google.colab import drive\n",
    "drive.mount('/content/gdrive')\n",
    "%cd gdrive/MyDrive/M_DV_V2022"
   ]
  },
  {
   "cell_type": "code",
   "execution_count": null,
   "id": "1edefeff",
   "metadata": {},
   "outputs": [],
   "source": [
    "import numpy as np\n",
    "import pandas as pd\n",
    "import matplotlib.pyplot as plt\n",
    "import seaborn as sns\n",
    "\n",
    "from tensorflow.keras.layers import Input \n",
    "from keras.utils.vis_utils import plot_model\n",
    "\n",
    "from unet_detection.models.vanilla_unet import vanilla_unet\n",
    "from unet_detection.models.unet_2input import unet_2input\n",
    "from unet_detection.models.unet_2input_deep import unet_2input_deep\n",
    "from unet_detection.models.double_unet import double_unet\n",
    "from unet_detection.models.triple_unet import triple_unet"
   ]
  },
  {
   "cell_type": "markdown",
   "id": "5832137a",
   "metadata": {},
   "source": [
    "### All nets"
   ]
  },
  {
   "cell_type": "code",
   "execution_count": null,
   "id": "5847c970",
   "metadata": {},
   "outputs": [],
   "source": [
    "seed = 123\n",
    "\n",
    "vUnet = vanilla_unet(seed)\n",
    "unet2i = unet_2input(seed)\n",
    "unet2i_d = unet_2input_deep(seed)\n",
    "dUnet = double_unet(seed)\n",
    "tUnet = triple_unet(seed)"
   ]
  },
  {
   "cell_type": "markdown",
   "id": "4ed4b13c",
   "metadata": {},
   "source": [
    "### Import data set and show"
   ]
  },
  {
   "cell_type": "code",
   "execution_count": null,
   "id": "7fe4522b",
   "metadata": {},
   "outputs": [],
   "source": [
    "X_train = np.load(\"data/u_net_roofs/X_data.npy\") \n",
    "X_70_train = np.load(\"data/u_net_roofs/X_70_data.npy\")\n",
    "y_train = np.load(\"data/u_net_roofs/y_data.npy\")\n",
    "\n",
    "X_val = np.load(\"data/u_net_roofs/X_data_val.npy\")\n",
    "X_70_val = np.load(\"data/u_net_roofs/X_70_data_val.npy\")\n",
    "y_val = np.load(\"data/u_net_roofs/y_data_val.npy\")\n",
    "\n",
    "X_test = np.load(\"data/u_net_roofs/X_data_test.npy\")\n",
    "X_70_test = np.load(\"data/u_net_roofs/X_70_data_test.npy\")\n",
    "y_test = np.load(\"data/u_net_roofs/y_data_test.npy\")"
   ]
  },
  {
   "cell_type": "code",
   "execution_count": null,
   "id": "04ad8748",
   "metadata": {},
   "outputs": [],
   "source": [
    "def redesign_y(y):\n",
    "  n,r1,c1,d = y.shape\n",
    "  # Adds a new dimension of layer too have two class problem.\n",
    "  yy = np.append(y, np.zeros((n, r1, c1,d)), axis=3)\n",
    "  for i in range(int(y.max()-1)):  \n",
    "    yy = np.append(yy, np.zeros((n, r1, c1,d)), axis=3)\n",
    "  yy1 = yy.copy()\n",
    "  yy1[:,:,:,0] = 0 # reset map\n",
    "  for i in range(n):\n",
    "    values = yy[i,:,:,0]\n",
    "    for r in range(r1):\n",
    "      for c in range(c1):\n",
    "        value = yy[i,r,c,0]\n",
    "        yy1[i,r,c,int(value)] = 1\n",
    "\n",
    "  return yy1"
   ]
  },
  {
   "cell_type": "code",
   "execution_count": null,
   "id": "08bdb0d8",
   "metadata": {},
   "outputs": [],
   "source": [
    "y_train = redesign_y(y_train)\n",
    "y_val = redesign_y(y_val)\n",
    "y_test = redesign_y(y_test)\n",
    "\n",
    "print(y_train.shape)\n",
    "print(y_val.shape)\n",
    "print(y_test.shape)"
   ]
  },
  {
   "cell_type": "code",
   "execution_count": null,
   "id": "ea2383e5",
   "metadata": {},
   "outputs": [],
   "source": [
    "# Scale image down so each border is the same size when upsizing!\n",
    "X_70_train = X_70_train[:,4:-4,4:-4,:]\n",
    "X_70_val = X_70_val[:,4:-4,4:-4,:]\n",
    "X_70_test = X_70_test[:,4:-4,4:-4,:]"
   ]
  },
  {
   "cell_type": "markdown",
   "id": "cf9a455a",
   "metadata": {},
   "source": [
    "## Set up net"
   ]
  },
  {
   "cell_type": "code",
   "execution_count": null,
   "id": "2547a8a2",
   "metadata": {},
   "outputs": [],
   "source": [
    "input_img1 = Input(shape=(128,128,177))\n",
    "input_img2 = Input(shape=(56,56,220))\n",
    "\n",
    "model = dUnet.get_unet(input_img1, input_img2, n_classes=2, last_activation='softmax')\n",
    "\n",
    "model.compile(optimizer='adam',\n",
    "                 loss='binary_crossentropy',\n",
    "                 metrics=['accuracy'])"
   ]
  },
  {
   "cell_type": "markdown",
   "id": "118e61f9",
   "metadata": {},
   "source": [
    "## Run test"
   ]
  },
  {
   "cell_type": "code",
   "execution_count": null,
   "id": "4f8bb0ec",
   "metadata": {},
   "outputs": [],
   "source": [
    "hhh = model.fit([X_train, X_70_train],\n",
    "               y_train, \n",
    "               validation_data=([X_val, X_70_val],y_val), \n",
    "               batch_size=16,\n",
    "               epochs=10)"
   ]
  },
  {
   "cell_type": "markdown",
   "id": "64fe55fe",
   "metadata": {},
   "source": [
    "## Display model net"
   ]
  },
  {
   "cell_type": "code",
   "execution_count": null,
   "id": "7f81e9f2",
   "metadata": {},
   "outputs": [],
   "source": [
    "#plot_model(model, to_file=\"doubleUnet.png\", dpi=300, rankdir='TB')"
   ]
  }
 ],
 "metadata": {
  "kernelspec": {
   "display_name": "Python 3",
   "language": "python",
   "name": "python3"
  },
  "language_info": {
   "codemirror_mode": {
    "name": "ipython",
    "version": 3
   },
   "file_extension": ".py",
   "mimetype": "text/x-python",
   "name": "python",
   "nbconvert_exporter": "python",
   "pygments_lexer": "ipython3",
   "version": "3.7.7"
  }
 },
 "nbformat": 4,
 "nbformat_minor": 5
}
