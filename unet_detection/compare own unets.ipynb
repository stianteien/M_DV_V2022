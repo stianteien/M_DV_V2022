{
  "cells": [
    {
      "cell_type": "markdown",
      "id": "4fcb7319",
      "metadata": {
        "id": "4fcb7319"
      },
      "source": [
        "# Compare unets with multiple inputs\n",
        "Vanilla u net  \n",
        "Unet with 2 inputs  \n",
        "Unet with 2 inputs on different depth  \n",
        "Double U net  \n",
        "Triple U net  "
      ]
    },
    {
      "cell_type": "code",
      "execution_count": 1,
      "id": "8cfc0abd",
      "metadata": {
        "id": "8cfc0abd",
        "outputId": "60e03f97-1447-4b04-b5a4-40a5e57d0911",
        "colab": {
          "base_uri": "https://localhost:8080/"
        }
      },
      "outputs": [
        {
          "output_type": "stream",
          "name": "stdout",
          "text": [
            "Mounted at /content/gdrive\n",
            "/content/gdrive/MyDrive/M_DV_V2022\n"
          ]
        }
      ],
      "source": [
        "from google.colab import drive\n",
        "drive.mount('/content/gdrive')\n",
        "%cd gdrive/MyDrive/M_DV_V2022"
      ]
    },
    {
      "cell_type": "code",
      "execution_count": 2,
      "id": "a968e0e6",
      "metadata": {
        "id": "a968e0e6"
      },
      "outputs": [],
      "source": [
        "import numpy as np\n",
        "import pandas as pd\n",
        "import matplotlib.pyplot as plt\n",
        "import seaborn as sns\n",
        "\n",
        "from sklearn.metrics import f1_score\n",
        "\n",
        "from tensorflow.keras.layers import Input \n",
        "from keras.utils.vis_utils import plot_model\n",
        "\n",
        "from unet_detection.models.vanilla_unet import vanilla_unet\n",
        "from unet_detection.models.unet_2input import unet_2input\n",
        "from unet_detection.models.unet_2input_deep import unet_2input_deep\n",
        "from unet_detection.models.double_unet import double_unet\n",
        "from unet_detection.models.triple_unet import triple_unet"
      ]
    },
    {
      "cell_type": "markdown",
      "id": "5e8cc698",
      "metadata": {
        "id": "5e8cc698"
      },
      "source": [
        "### All nets"
      ]
    },
    {
      "cell_type": "code",
      "execution_count": 3,
      "id": "83efceb0",
      "metadata": {
        "id": "83efceb0"
      },
      "outputs": [],
      "source": [
        "seed = 123\n",
        "\n",
        "vUnet = vanilla_unet()\n",
        "unet2i = unet_2input()\n",
        "unet2i_d = unet_2input_deep()\n",
        "dUnet = double_unet()\n",
        "tUnet = triple_unet()"
      ]
    },
    {
      "cell_type": "markdown",
      "id": "99e08783",
      "metadata": {
        "id": "99e08783"
      },
      "source": [
        "### Import data set and show"
      ]
    },
    {
      "cell_type": "code",
      "execution_count": 4,
      "id": "7c27da88",
      "metadata": {
        "id": "7c27da88"
      },
      "outputs": [],
      "source": [
        "X_train = np.load(\"data/u_net_roofs/X_data.npy\") \n",
        "X_70_train = np.load(\"data/u_net_roofs/X_70_data.npy\")\n",
        "y_train = np.load(\"data/u_net_roofs/y_data.npy\")\n",
        "\n",
        "X_val = np.load(\"data/u_net_roofs/X_data_val.npy\")\n",
        "X_70_val = np.load(\"data/u_net_roofs/X_70_data_val.npy\")\n",
        "y_val = np.load(\"data/u_net_roofs/y_data_val.npy\")\n",
        "\n",
        "X_test = np.load(\"data/u_net_roofs/X_data_test.npy\")\n",
        "X_70_test = np.load(\"data/u_net_roofs/X_70_data_test.npy\")\n",
        "y_test = np.load(\"data/u_net_roofs/y_data_test.npy\")"
      ]
    },
    {
      "cell_type": "code",
      "execution_count": 5,
      "id": "78a6bb1e",
      "metadata": {
        "id": "78a6bb1e"
      },
      "outputs": [],
      "source": [
        "def redesign_y(y):\n",
        "  n,r1,c1,d = y.shape\n",
        "  # Adds a new dimension of layer too have two class problem.\n",
        "  yy = np.append(y, np.zeros((n, r1, c1,d)), axis=3)\n",
        "  for i in range(int(y.max()-1)):  \n",
        "    yy = np.append(yy, np.zeros((n, r1, c1,d)), axis=3)\n",
        "  yy1 = yy.copy()\n",
        "  yy1[:,:,:,0] = 0 # reset map\n",
        "  for i in range(n):\n",
        "    values = yy[i,:,:,0]\n",
        "    for r in range(r1):\n",
        "      for c in range(c1):\n",
        "        value = yy[i,r,c,0]\n",
        "        yy1[i,r,c,int(value)] = 1\n",
        "\n",
        "  return yy1"
      ]
    },
    {
      "cell_type": "code",
      "execution_count": 6,
      "id": "4f74f643",
      "metadata": {
        "id": "4f74f643",
        "outputId": "bbf185fb-7904-4090-8a18-158973aa2f3e",
        "colab": {
          "base_uri": "https://localhost:8080/"
        }
      },
      "outputs": [
        {
          "output_type": "stream",
          "name": "stdout",
          "text": [
            "(100, 128, 128, 2)\n",
            "(20, 128, 128, 2)\n",
            "(50, 128, 128, 2)\n"
          ]
        }
      ],
      "source": [
        "y_train = redesign_y(y_train)\n",
        "y_val = redesign_y(y_val)\n",
        "y_test = redesign_y(y_test)\n",
        "\n",
        "print(y_train.shape)\n",
        "print(y_val.shape)\n",
        "print(y_test.shape)"
      ]
    },
    {
      "cell_type": "code",
      "execution_count": null,
      "id": "ff5880e3",
      "metadata": {
        "id": "ff5880e3"
      },
      "outputs": [],
      "source": [
        "# Scale image down so each border is the same size when upsizing!\n",
        "X_70_train = X_70_train[:,4:-4,4:-4,:]\n",
        "X_70_val = X_70_val[:,4:-4,4:-4,:]\n",
        "X_70_test = X_70_test[:,4:-4,4:-4,:]"
      ]
    },
    {
      "cell_type": "markdown",
      "id": "3714116c",
      "metadata": {
        "id": "3714116c"
      },
      "source": [
        "## Set up net"
      ]
    },
    {
      "cell_type": "code",
      "execution_count": null,
      "id": "9947b4ec",
      "metadata": {
        "id": "9947b4ec"
      },
      "outputs": [],
      "source": [
        "input_img1 = Input(shape=(128,128,177))\n",
        "input_img2 = Input(shape=(56,56,220))\n",
        "\n",
        "model = dUnet.get_unet(input_img1, input_img2, n_classes=2, last_activation='softmax')\n",
        "\n",
        "model.compile(optimizer='adam',\n",
        "                 loss='binary_crossentropy',\n",
        "                 metrics=['accuracy'])"
      ]
    },
    {
      "cell_type": "markdown",
      "id": "ff245fba",
      "metadata": {
        "id": "ff245fba"
      },
      "source": [
        "## Run test"
      ]
    },
    {
      "cell_type": "code",
      "execution_count": 7,
      "id": "89f40c15",
      "metadata": {
        "id": "89f40c15",
        "outputId": "aa3a6daa-f14a-4eaf-a515-86d9c539b05e",
        "colab": {
          "base_uri": "https://localhost:8080/"
        }
      },
      "outputs": [
        {
          "output_type": "stream",
          "name": "stdout",
          "text": [
            "Round 1 of 10. F1 score: 0.6092769257931169\n",
            "Round 2 of 10. F1 score: 0.7461402325149354\n",
            "Round 3 of 10. F1 score: 0.7158214912210116\n",
            "Round 4 of 10. F1 score: 0.7993460886413175\n",
            "WARNING:tensorflow:5 out of the last 9 calls to <function Model.make_predict_function.<locals>.predict_function at 0x7f3e2c4b29e0> triggered tf.function retracing. Tracing is expensive and the excessive number of tracings could be due to (1) creating @tf.function repeatedly in a loop, (2) passing tensors with different shapes, (3) passing Python objects instead of tensors. For (1), please define your @tf.function outside of the loop. For (2), @tf.function has experimental_relax_shapes=True option that relaxes argument shapes that can avoid unnecessary retracing. For (3), please refer to https://www.tensorflow.org/guide/function#controlling_retracing and https://www.tensorflow.org/api_docs/python/tf/function for  more details.\n",
            "Round 5 of 10. F1 score: 0.5616651623181909\n",
            "WARNING:tensorflow:6 out of the last 11 calls to <function Model.make_predict_function.<locals>.predict_function at 0x7f3e2b6ff950> triggered tf.function retracing. Tracing is expensive and the excessive number of tracings could be due to (1) creating @tf.function repeatedly in a loop, (2) passing tensors with different shapes, (3) passing Python objects instead of tensors. For (1), please define your @tf.function outside of the loop. For (2), @tf.function has experimental_relax_shapes=True option that relaxes argument shapes that can avoid unnecessary retracing. For (3), please refer to https://www.tensorflow.org/guide/function#controlling_retracing and https://www.tensorflow.org/api_docs/python/tf/function for  more details.\n",
            "Round 6 of 10. F1 score: 0.7082598966275225\n",
            "Round 7 of 10. F1 score: 0.6289953353195273\n",
            "Round 8 of 10. F1 score: 0.7767192198521766\n",
            "Round 9 of 10. F1 score: 0.44540359466597956\n",
            "Round 10 of 10. F1 score: 0.2949445796161124\n"
          ]
        }
      ],
      "source": [
        "n = 10\n",
        "epochs = 100\n",
        "f1_scores = []\n",
        "jacards = []\n",
        "\n",
        "input_img1 = Input(shape=(128,128,177))\n",
        "input_img2 = Input(shape=(56,56,220))\n",
        "\n",
        "for i in range(n):\n",
        "  # Build model\n",
        "  model = None\n",
        "  model = vUnet.get_unet(input_img1,\n",
        "                         n_classes=2, last_activation='softmax')\n",
        "\n",
        "  model.compile(optimizer='adam',\n",
        "                 loss='binary_crossentropy',\n",
        "                 metrics=['accuracy'])\n",
        "  \n",
        "  # Run net\n",
        "  hh = model.fit([X_train],\n",
        "                  y_train, \n",
        "                  batch_size=16,\n",
        "                  epochs=epochs,\n",
        "                  verbose=0)\n",
        "  \n",
        "  # Save scores\n",
        "  pred = model.predict([X_test])\n",
        "  f1 = f1_score(y_test.argmax(axis=3).flatten(), pred.argmax(axis=3).flatten())\n",
        "  f1_scores\n",
        "\n",
        "  print(f\"Round {i+1} of {n}. F1 score: {f1}\")\n",
        "\n",
        "\n",
        "f1_scores = np.array(f1_scores)\n",
        "  "
      ]
    },
    {
      "cell_type": "markdown",
      "id": "5f817b1e",
      "metadata": {
        "id": "5f817b1e"
      },
      "source": [
        "## Display model net"
      ]
    },
    {
      "cell_type": "code",
      "execution_count": null,
      "id": "ed8d6158",
      "metadata": {
        "id": "ed8d6158"
      },
      "outputs": [],
      "source": [
        ""
      ]
    }
  ],
  "metadata": {
    "kernelspec": {
      "display_name": "Python 3",
      "language": "python",
      "name": "python3"
    },
    "language_info": {
      "codemirror_mode": {
        "name": "ipython",
        "version": 3
      },
      "file_extension": ".py",
      "mimetype": "text/x-python",
      "name": "python",
      "nbconvert_exporter": "python",
      "pygments_lexer": "ipython3",
      "version": "3.7.7"
    },
    "colab": {
      "name": "compare own unets.ipynb",
      "provenance": [],
      "machine_shape": "hm"
    },
    "accelerator": "GPU"
  },
  "nbformat": 4,
  "nbformat_minor": 5
}