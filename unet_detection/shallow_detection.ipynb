{
 "cells": [
  {
   "cell_type": "markdown",
   "id": "fe57df39",
   "metadata": {},
   "source": [
    "# Shallow learning\n",
    "Shallow learning for making a benchmark for unets  \n",
    "random forest is good"
   ]
  },
  {
   "cell_type": "code",
   "execution_count": null,
   "id": "cbb1df30",
   "metadata": {},
   "outputs": [],
   "source": [
    "from google.colab import drive\n",
    "drive.mount('/content/gdrive')\n",
    "%cd gdrive/MyDrive/M_DV_V2022"
   ]
  },
  {
   "cell_type": "code",
   "execution_count": 4,
   "id": "184b6826",
   "metadata": {},
   "outputs": [],
   "source": [
    "import numpy as np\n",
    "import matplotlib.pyplot as plt\n",
    "import pandas as pd\n",
    "\n",
    "from sklearn.model_selection import train_test_split\n",
    "from sklearn.metrics import accuracy_score\n",
    "from sklearn.metrics import f1_score\n",
    "\n",
    "from sklearn.ensemble import RandomForestClassifier"
   ]
  },
  {
   "cell_type": "markdown",
   "id": "a4202d4a",
   "metadata": {},
   "source": [
    "# Load data"
   ]
  },
  {
   "cell_type": "code",
   "execution_count": 3,
   "id": "8af5b8a5",
   "metadata": {},
   "outputs": [],
   "source": [
    "root = \"E:/M-DV-STeien/august2019/05/temp_data/\"\n",
    "\n",
    "X_train = np.load(root+\"X_data.npy\")\n",
    "y_train = np.load(root+\"y_data.npy\")\n",
    "\n",
    "X_val = np.load(root+\"X_data_val.npy\")\n",
    "y_val = np.load(root+\"y_data_val.npy\")\n",
    "\n",
    "X_test = np.load(root+\"X_data_test.npy\")\n",
    "y_test = np.load(root+\"X_data_test.npy\")"
   ]
  },
  {
   "cell_type": "code",
   "execution_count": 9,
   "id": "c0fa63b1",
   "metadata": {},
   "outputs": [
    {
     "data": {
      "text/plain": [
       "(100, 128, 128, 1)"
      ]
     },
     "execution_count": 9,
     "metadata": {},
     "output_type": "execute_result"
    }
   ],
   "source": [
    "y_train.shape"
   ]
  },
  {
   "cell_type": "markdown",
   "id": "96203541",
   "metadata": {},
   "source": [
    "# Make model and predict"
   ]
  },
  {
   "cell_type": "code",
   "execution_count": null,
   "id": "4f4f2bf7",
   "metadata": {},
   "outputs": [],
   "source": [
    "rf = RandomForestClassifier()\n",
    "\n",
    "X = X_train.reshape((X_train.shape[0]*X_train.shape[1]*X_train.shape[2], X_train.shape[3]))\n",
    "y = y_train.reshape((y_train.shape[0]*y_train.shape[1]*y_train.shape[2], 1)).ravel()\n",
    "rf.fit(X,y)"
   ]
  },
  {
   "cell_type": "markdown",
   "id": "98b41c10",
   "metadata": {},
   "source": [
    "### Predict and see results"
   ]
  },
  {
   "cell_type": "code",
   "execution_count": null,
   "id": "285c6b81",
   "metadata": {},
   "outputs": [],
   "source": [
    "X = X_test.reshape((X_test.shape[0]*X_test.shape[1]*X_test.shape[2], X_test.shape[3]))\n",
    "y = y_test.reshape((y_test.shape[0]*y_test.shape[1]*y_test.shape[2], 1)).ravel()\n",
    "\n",
    "pred = rf.predict(X)\n",
    "f1 = f1_score(y,pred)\n",
    "acc = accuracy_score(y,pred)"
   ]
  }
 ],
 "metadata": {
  "kernelspec": {
   "display_name": "Python 3",
   "language": "python",
   "name": "python3"
  },
  "language_info": {
   "codemirror_mode": {
    "name": "ipython",
    "version": 3
   },
   "file_extension": ".py",
   "mimetype": "text/x-python",
   "name": "python",
   "nbconvert_exporter": "python",
   "pygments_lexer": "ipython3",
   "version": "3.7.7"
  }
 },
 "nbformat": 4,
 "nbformat_minor": 5
}
