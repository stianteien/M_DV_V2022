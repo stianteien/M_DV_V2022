{
 "cells": [
  {
   "cell_type": "markdown",
   "id": "6e28ba82",
   "metadata": {},
   "source": [
    "# Sharpen with bilinear"
   ]
  },
  {
   "cell_type": "code",
   "execution_count": null,
   "id": "0b79012f",
   "metadata": {},
   "outputs": [],
   "source": [
    "from google.colab import drive\n",
    "drive.mount('/content/gdrive')\n",
    "%cd gdrive/MyDrive/M_DV_V2022"
   ]
  },
  {
   "cell_type": "code",
   "execution_count": 13,
   "id": "223eb087",
   "metadata": {},
   "outputs": [],
   "source": [
    "from tensorflow.keras.layers import Input, Dense, ReLU, Add, Conv1D, BatchNormalization, LayerNormalization, Layer, Flatten, MaxPooling1D, Concatenate\n",
    "from tensorflow.keras.models import Model\n",
    "from tensorflow.keras.layers import Input, Conv2D, BatchNormalization, Activation, MaxPooling2D, Dropout, Conv2DTranspose, concatenate\n",
    "from tensorflow.keras import losses\n",
    "from tensorflow.keras.losses import MeanSquaredError\n",
    "from tensorflow.keras.optimizers import Adam\n",
    "from tensorflow.keras.callbacks import LearningRateScheduler\n",
    "import matplotlib.pyplot as plt\n",
    "import numpy as np\n",
    "import h5py\n",
    "import pandas as pd\n",
    "import tensorflow as tf\n",
    "from tensorflow.image import resize\n"
   ]
  },
  {
   "cell_type": "markdown",
   "id": "21e36264",
   "metadata": {},
   "source": [
    "### Set up for up and down scaling"
   ]
  },
  {
   "cell_type": "code",
   "execution_count": 14,
   "id": "67364b72",
   "metadata": {},
   "outputs": [],
   "source": [
    "def rationalConv(x, filters=16, kernel_size=(3,3), padding=\"same\", start=7, end=3):\n",
    "    \"\"\"\n",
    "    Where ordinary convolutions down-scale by an integer stride, \n",
    "    the rational version up-samples and down-scales an integer stride to \n",
    "    reach a desired rational upscaling.\n",
    "\n",
    "    Example: 7 -> 3 => 7 * bilinear(9/7) = 9, 9 / conv(3) = 3\n",
    "    \"\"\"\n",
    "    size = x.shape\n",
    "    stride = np.ceil(start/end).astype(int)\n",
    "    scaling = (end*stride)/start\n",
    "    \n",
    "    x = resize(x, tf.constant(np.round([size[1]*scaling, size[2]*scaling]), dtype=\"int32\"))\n",
    "    if stride > 1:\n",
    "        x = Conv2D(filters=filters, kernel_size=kernel_size, strides = (stride,stride), padding=padding)(x)\n",
    "    return x\n",
    "\n",
    "def rationalConvTransposed(x, filters=16, kernel_size=(3,3), padding=\"same\", start=3, end=7):\n",
    "    \"\"\"\n",
    "    Where ordinary transposed convolutions up-scale by an integer stride, \n",
    "    the rational version up-scales an integer stride and down-samples to \n",
    "    reach a desired rational upscaling.\n",
    "    \n",
    "    Example: 3 -> 7 => 3 * convTr(3) = 9, 9 * bilinear(7/9) = 7\n",
    "    \"\"\"\n",
    "    size = x.shape\n",
    "    stride = np.ceil(end/start).astype(int)\n",
    "    scaling = end/start\n",
    "    \n",
    "    if stride > 1:\n",
    "        x = Conv2DTranspose(filters=filters, kernel_size=kernel_size, strides = (stride,stride), padding=padding)(x)\n",
    "    x = resize(x, tf.constant(np.round([size[1]*scaling, size[2]*scaling]), dtype=\"int32\"))\n",
    "    return x"
   ]
  },
  {
   "cell_type": "code",
   "execution_count": 21,
   "id": "abe30833",
   "metadata": {},
   "outputs": [
    {
     "name": "stdout",
     "output_type": "stream",
     "text": [
      "Model: \"model_3\"\n",
      "_________________________________________________________________\n",
      "Layer (type)                 Output Shape              Param #   \n",
      "=================================================================\n",
      "input_7 (InputLayer)         [(None, 30, 30, 3)]       0         \n",
      "_________________________________________________________________\n",
      "conv2d_transpose_6 (Conv2DTr (None, 90, 90, 16)        448       \n",
      "_________________________________________________________________\n",
      "tf.image.resize_3 (TFOpLambd (None, 70, 70, 16)        0         \n",
      "_________________________________________________________________\n",
      "conv2d_5 (Conv2D)            (None, 70, 70, 8)         1160      \n",
      "_________________________________________________________________\n",
      "conv2d_6 (Conv2D)            (None, 70, 70, 3)         219       \n",
      "=================================================================\n",
      "Total params: 1,827\n",
      "Trainable params: 1,827\n",
      "Non-trainable params: 0\n",
      "_________________________________________________________________\n"
     ]
    }
   ],
   "source": [
    "\n",
    "input_img = Input(shape=(30,30,3))\n",
    "x = rationalConvTransposed(input_img, end=7, start=3)\n",
    "x = Conv2D(8, kernel_size=3, padding=\"same\", activation='relu')(x)\n",
    "x = Conv2D(3, kernel_size=3, padding=\"same\", activation='relu')(x)\n",
    "\n",
    "model = Model(inputs = [input_img], outputs = [x])\n",
    "model.compile(optimizer='adam',\n",
    "              loss='mse')\n",
    "model.summary()"
   ]
  },
  {
   "cell_type": "code",
   "execution_count": 16,
   "id": "34153ece",
   "metadata": {},
   "outputs": [],
   "source": [
    "X = np.load(\"X_data.npy\")\n",
    "y = np.load(\"y_data.npy\")"
   ]
  },
  {
   "cell_type": "code",
   "execution_count": 17,
   "id": "a8980004",
   "metadata": {},
   "outputs": [
    {
     "data": {
      "text/plain": [
       "(50, 70, 70, 3)"
      ]
     },
     "execution_count": 17,
     "metadata": {},
     "output_type": "execute_result"
    }
   ],
   "source": [
    "y.shape"
   ]
  },
  {
   "cell_type": "code",
   "execution_count": 22,
   "id": "54cf36ee",
   "metadata": {},
   "outputs": [
    {
     "name": "stdout",
     "output_type": "stream",
     "text": [
      "Epoch 1/10\n",
      "2/2 [==============================] - 1s 112ms/step - loss: 0.0841\n",
      "Epoch 2/10\n",
      "2/2 [==============================] - 0s 125ms/step - loss: 0.0817\n",
      "Epoch 3/10\n",
      "2/2 [==============================] - 0s 135ms/step - loss: 0.0756\n",
      "Epoch 4/10\n",
      "2/2 [==============================] - 0s 110ms/step - loss: 0.0696\n",
      "Epoch 5/10\n",
      "2/2 [==============================] - 0s 163ms/step - loss: 0.0646\n",
      "Epoch 6/10\n",
      "2/2 [==============================] - 0s 126ms/step - loss: 0.0576\n",
      "Epoch 7/10\n",
      "2/2 [==============================] - 0s 121ms/step - loss: 0.0489\n",
      "Epoch 8/10\n",
      "2/2 [==============================] - 0s 158ms/step - loss: 0.0423\n",
      "Epoch 9/10\n",
      "2/2 [==============================] - 0s 111ms/step - loss: 0.0339\n",
      "Epoch 10/10\n",
      "2/2 [==============================] - 0s 125ms/step - loss: 0.0279\n"
     ]
    }
   ],
   "source": [
    "h = model.fit(X,y,epochs=10)"
   ]
  },
  {
   "cell_type": "code",
   "execution_count": 23,
   "id": "f92f7f9b",
   "metadata": {},
   "outputs": [
    {
     "data": {
      "text/plain": [
       "<matplotlib.image.AxesImage at 0x1948bc3e908>"
      ]
     },
     "execution_count": 23,
     "metadata": {},
     "output_type": "execute_result"
    },
    {
     "data": {
      "image/png": "[encoded data removed]",
      "text/plain": [
       "<Figure size 432x288 with 1 Axes>"
      ]
     },
     "metadata": {
      "needs_background": "light"
     },
     "output_type": "display_data"
    }
   ],
   "source": [
    "plt.imshow(model.predict(X[0:1])[0])"
   ]
  },
  {
   "cell_type": "code",
   "execution_count": null,
   "id": "978d2572",
   "metadata": {},
   "outputs": [],
   "source": []
  }
 ],
 "metadata": {
  "kernelspec": {
   "display_name": "Python 3",
   "language": "python",
   "name": "python3"
  },
  "language_info": {
   "codemirror_mode": {
    "name": "ipython",
    "version": 3
   },
   "file_extension": ".py",
   "mimetype": "text/x-python",
   "name": "python",
   "nbconvert_exporter": "python",
   "pygments_lexer": "ipython3",
   "version": "3.7.7"
  }
 },
 "nbformat": 4,
 "nbformat_minor": 5
}
