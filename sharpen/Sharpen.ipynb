{
  "cells": [
    {
      "cell_type": "markdown",
      "id": "7b20aca8",
      "metadata": {
        "id": "7b20aca8"
      },
      "source": [
        "# Sharpen\n",
        "Try to sharpen images"
      ]
    },
    {
      "cell_type": "code",
      "execution_count": 1,
      "id": "f0902a2a",
      "metadata": {
        "id": "f0902a2a",
        "outputId": "18e04d5a-30fa-4aee-8ac7-503b8b9f4485",
        "colab": {
          "base_uri": "https://localhost:8080/"
        }
      },
      "outputs": [
        {
          "output_type": "stream",
          "name": "stdout",
          "text": [
            "Mounted at /content/gdrive\n",
            "/content/gdrive/MyDrive/M_DV_V2022\n"
          ]
        }
      ],
      "source": [
        "from google.colab import drive\n",
        "drive.mount('/content/gdrive')\n",
        "%cd gdrive/MyDrive/M_DV_V2022"
      ]
    },
    {
      "cell_type": "markdown",
      "source": [
        "### Imports"
      ],
      "metadata": {
        "id": "hq-quEnV6nDI"
      },
      "id": "hq-quEnV6nDI"
    },
    {
      "cell_type": "code",
      "source": [
        "import numpy as np\n",
        "import matplotlib.pyplot as plt\n",
        "\n",
        "from sklearn.model_selection import train_test_split\n",
        "from sklearn.preprocessing import StandardScaler\n",
        "\n",
        "from keras.models import Sequential\n",
        "from keras.layers import Input, Dense, Conv2D, Flatten, \\\n",
        "                         UpSampling2D, Conv2DTranspose, MaxPooling2D, \\\n",
        "                         Dropout"
      ],
      "metadata": {
        "id": "vcG1PYEO6leF"
      },
      "id": "vcG1PYEO6leF",
      "execution_count": 2,
      "outputs": []
    },
    {
      "cell_type": "markdown",
      "source": [
        "### Load data"
      ],
      "metadata": {
        "id": "98t0D2JX6tcC"
      },
      "id": "98t0D2JX6tcC"
    },
    {
      "cell_type": "code",
      "source": [
        "X = np.load(\"sharpen/X_data.npy\")\n",
        "y = np.load(\"sharpen/y_data.npy\")\n",
        "\n",
        "X_train, X_test, y_train, y_test = train_test_split(X, \n",
        "                                                    y, \n",
        "                                                    test_size=0.2, \n",
        "                                                    random_state=42)"
      ],
      "metadata": {
        "id": "uVlOpmjF6sug"
      },
      "id": "uVlOpmjF6sug",
      "execution_count": 3,
      "outputs": []
    },
    {
      "cell_type": "code",
      "source": [
        "snitt = X_train.mean()\n",
        "var = X_train.var()\n",
        "\n",
        "snitt_y = y_train.mean()\n",
        "var_y = y_train.var()\n",
        "\n",
        "#X_train = (X_train - snitt) / var\n",
        "#X_test = (X_test - snitt) / var\n",
        "\n",
        "#y_train = (y_train - snitt_y) / var_y\n",
        "#y_test = (y_test - snitt_y) / var_y"
      ],
      "metadata": {
        "id": "jeBmCs1kKjqa"
      },
      "id": "jeBmCs1kKjqa",
      "execution_count": 4,
      "outputs": []
    },
    {
      "cell_type": "markdown",
      "source": [
        "### Show data"
      ],
      "metadata": {
        "id": "qTfMDuudRCXS"
      },
      "id": "qTfMDuudRCXS"
    },
    {
      "cell_type": "code",
      "source": [
        "fig, ax = plt.subplots(nrows=1, ncols=5, figsize = (15,15))\n",
        "\n",
        "indx = np.random.randint(0,high=X.shape[0],size=5)\n",
        "for i,axis in enumerate(ax):\n",
        "  axis.imshow(X[indx[i]])\n",
        "plt.show()\n",
        "\n"
      ],
      "metadata": {
        "id": "SR5AeBV7RF1M",
        "outputId": "50852dcf-e0bb-4688-9bc3-f05bc801ecba",
        "colab": {
          "base_uri": "https://localhost:8080/",
          "height": 194
        }
      },
      "id": "SR5AeBV7RF1M",
      "execution_count": 26,
      "outputs": [
        {
          "output_type": "display_data",
          "data": {
            "image/png": "[encoded data removed]",
            "text/plain": [
              "<Figure size 1080x1080 with 5 Axes>"
            ]
          },
          "metadata": {
            "needs_background": "light"
          }
        }
      ]
    },
    {
      "cell_type": "markdown",
      "source": [
        "### Make model"
      ],
      "metadata": {
        "id": "-OUSENL-66ux"
      },
      "id": "-OUSENL-66ux"
    },
    {
      "cell_type": "code",
      "source": [
        "model = Sequential()\n",
        "\n",
        "model.add(Input(shape=(30,30,3)))\n",
        "model.add(Conv2D(32, kernel_size=3, activation='relu',\n",
        "                     padding='valid'))\n",
        "model.add(MaxPooling2D(2))\n",
        "model.add(Conv2DTranspose(32, kernel_size=3, activation='relu',\n",
        "                padding='same'))\n",
        "model.add(UpSampling2D(5))\n",
        "model.add(Conv2D(32, kernel_size=3, activation='relu',\n",
        "                 padding='same'))\n",
        "model.add(Conv2D(32, kernel_size=3, activation='relu',\n",
        "                 padding='same'))\n",
        "\n",
        "model.add(Conv2D(3, kernel_size=3, activation='sigmoid',\n",
        "                 padding='same'))\n",
        "\n",
        "#model.add(Conv2DTranspose(32, kernel_size=3, padding=\"same\"))\n",
        "#model.add(UpSampling2D(3))\n",
        "\n",
        "model.summary()\n",
        "model.compile(optimizer='adam',\n",
        "              loss='mse')"
      ],
      "metadata": {
        "id": "fQnfE2T16waE",
        "outputId": "50d303c1-ec65-4704-b048-40100cefe67d",
        "colab": {
          "base_uri": "https://localhost:8080/"
        }
      },
      "id": "fQnfE2T16waE",
      "execution_count": 5,
      "outputs": [
        {
          "output_type": "stream",
          "name": "stdout",
          "text": [
            "Model: \"sequential\"\n",
            "_________________________________________________________________\n",
            " Layer (type)                Output Shape              Param #   \n",
            "=================================================================\n",
            " conv2d (Conv2D)             (None, 28, 28, 32)        896       \n",
            "                                                                 \n",
            " max_pooling2d (MaxPooling2D  (None, 14, 14, 32)       0         \n",
            " )                                                               \n",
            "                                                                 \n",
            " conv2d_transpose (Conv2DTra  (None, 14, 14, 32)       9248      \n",
            " nspose)                                                         \n",
            "                                                                 \n",
            " up_sampling2d (UpSampling2D  (None, 70, 70, 32)       0         \n",
            " )                                                               \n",
            "                                                                 \n",
            " conv2d_1 (Conv2D)           (None, 70, 70, 32)        9248      \n",
            "                                                                 \n",
            " conv2d_2 (Conv2D)           (None, 70, 70, 32)        9248      \n",
            "                                                                 \n",
            " conv2d_3 (Conv2D)           (None, 70, 70, 3)         867       \n",
            "                                                                 \n",
            "=================================================================\n",
            "Total params: 29,507\n",
            "Trainable params: 29,507\n",
            "Non-trainable params: 0\n",
            "_________________________________________________________________\n"
          ]
        }
      ]
    },
    {
      "cell_type": "markdown",
      "source": [
        "## Train model"
      ],
      "metadata": {
        "id": "puvoQQRA7AiB"
      },
      "id": "puvoQQRA7AiB"
    },
    {
      "cell_type": "code",
      "source": [
        "history = model.fit(X_train,y_train,\n",
        "                    validation_data=(X_test,y_test),\n",
        "                    epochs=200, batch_size=10, verbose=1)"
      ],
      "metadata": {
        "id": "YZNKVX1Z6-Jd",
        "outputId": "5dafa413-a2b6-4402-baf4-072a6928dc2e",
        "colab": {
          "base_uri": "https://localhost:8080/"
        }
      },
      "id": "YZNKVX1Z6-Jd",
      "execution_count": 6,
      "outputs": [
        {
          "output_type": "stream",
          "name": "stdout",
          "text": [
            "Epoch 1/200\n",
            "4/4 [==============================] - 9s 88ms/step - loss: 0.0953 - val_loss: 0.0877\n",
            "Epoch 2/200\n",
            "4/4 [==============================] - 0s 33ms/step - loss: 0.0785 - val_loss: 0.0646\n",
            "Epoch 3/200\n",
            "4/4 [==============================] - 0s 30ms/step - loss: 0.0584 - val_loss: 0.0595\n",
            "Epoch 4/200\n",
            "4/4 [==============================] - 0s 33ms/step - loss: 0.0590 - val_loss: 0.0587\n",
            "Epoch 5/200\n",
            "4/4 [==============================] - 0s 33ms/step - loss: 0.0560 - val_loss: 0.0543\n",
            "Epoch 6/200\n",
            "4/4 [==============================] - 0s 32ms/step - loss: 0.0521 - val_loss: 0.0524\n",
            "Epoch 7/200\n",
            "4/4 [==============================] - 0s 33ms/step - loss: 0.0500 - val_loss: 0.0494\n",
            "Epoch 8/200\n",
            "4/4 [==============================] - 0s 28ms/step - loss: 0.0471 - val_loss: 0.0456\n",
            "Epoch 9/200\n",
            "4/4 [==============================] - 0s 29ms/step - loss: 0.0426 - val_loss: 0.0407\n",
            "Epoch 10/200\n",
            "4/4 [==============================] - 0s 28ms/step - loss: 0.0373 - val_loss: 0.0341\n",
            "Epoch 11/200\n",
            "4/4 [==============================] - 0s 29ms/step - loss: 0.0297 - val_loss: 0.0261\n",
            "Epoch 12/200\n",
            "4/4 [==============================] - 0s 28ms/step - loss: 0.0224 - val_loss: 0.0195\n",
            "Epoch 13/200\n",
            "4/4 [==============================] - 0s 35ms/step - loss: 0.0177 - val_loss: 0.0169\n",
            "Epoch 14/200\n",
            "4/4 [==============================] - 0s 34ms/step - loss: 0.0170 - val_loss: 0.0163\n",
            "Epoch 15/200\n",
            "4/4 [==============================] - 0s 34ms/step - loss: 0.0162 - val_loss: 0.0156\n",
            "Epoch 16/200\n",
            "4/4 [==============================] - 0s 32ms/step - loss: 0.0155 - val_loss: 0.0149\n",
            "Epoch 17/200\n",
            "4/4 [==============================] - 0s 34ms/step - loss: 0.0146 - val_loss: 0.0145\n",
            "Epoch 18/200\n",
            "4/4 [==============================] - 0s 30ms/step - loss: 0.0142 - val_loss: 0.0143\n",
            "Epoch 19/200\n",
            "4/4 [==============================] - 0s 29ms/step - loss: 0.0138 - val_loss: 0.0138\n",
            "Epoch 20/200\n",
            "4/4 [==============================] - 0s 33ms/step - loss: 0.0133 - val_loss: 0.0135\n",
            "Epoch 21/200\n",
            "4/4 [==============================] - 0s 33ms/step - loss: 0.0129 - val_loss: 0.0132\n",
            "Epoch 22/200\n",
            "4/4 [==============================] - 0s 33ms/step - loss: 0.0125 - val_loss: 0.0128\n",
            "Epoch 23/200\n",
            "4/4 [==============================] - 0s 33ms/step - loss: 0.0122 - val_loss: 0.0126\n",
            "Epoch 24/200\n",
            "4/4 [==============================] - 0s 29ms/step - loss: 0.0118 - val_loss: 0.0121\n",
            "Epoch 25/200\n",
            "4/4 [==============================] - 0s 30ms/step - loss: 0.0112 - val_loss: 0.0117\n",
            "Epoch 26/200\n",
            "4/4 [==============================] - 0s 28ms/step - loss: 0.0107 - val_loss: 0.0112\n",
            "Epoch 27/200\n",
            "4/4 [==============================] - 0s 30ms/step - loss: 0.0102 - val_loss: 0.0108\n",
            "Epoch 28/200\n",
            "4/4 [==============================] - 0s 32ms/step - loss: 0.0098 - val_loss: 0.0105\n",
            "Epoch 29/200\n",
            "4/4 [==============================] - 0s 33ms/step - loss: 0.0096 - val_loss: 0.0102\n",
            "Epoch 30/200\n",
            "4/4 [==============================] - 0s 33ms/step - loss: 0.0092 - val_loss: 0.0099\n",
            "Epoch 31/200\n",
            "4/4 [==============================] - 0s 30ms/step - loss: 0.0093 - val_loss: 0.0103\n",
            "Epoch 32/200\n",
            "4/4 [==============================] - 0s 31ms/step - loss: 0.0091 - val_loss: 0.0099\n",
            "Epoch 33/200\n",
            "4/4 [==============================] - 0s 35ms/step - loss: 0.0092 - val_loss: 0.0099\n",
            "Epoch 34/200\n",
            "4/4 [==============================] - 0s 33ms/step - loss: 0.0091 - val_loss: 0.0096\n",
            "Epoch 35/200\n",
            "4/4 [==============================] - 0s 30ms/step - loss: 0.0089 - val_loss: 0.0098\n",
            "Epoch 36/200\n",
            "4/4 [==============================] - 0s 30ms/step - loss: 0.0089 - val_loss: 0.0098\n",
            "Epoch 37/200\n",
            "4/4 [==============================] - 0s 29ms/step - loss: 0.0088 - val_loss: 0.0097\n",
            "Epoch 38/200\n",
            "4/4 [==============================] - 0s 33ms/step - loss: 0.0086 - val_loss: 0.0098\n",
            "Epoch 39/200\n",
            "4/4 [==============================] - 0s 30ms/step - loss: 0.0086 - val_loss: 0.0092\n",
            "Epoch 40/200\n",
            "4/4 [==============================] - 0s 33ms/step - loss: 0.0084 - val_loss: 0.0092\n",
            "Epoch 41/200\n",
            "4/4 [==============================] - 0s 30ms/step - loss: 0.0084 - val_loss: 0.0092\n",
            "Epoch 42/200\n",
            "4/4 [==============================] - 0s 34ms/step - loss: 0.0084 - val_loss: 0.0092\n",
            "Epoch 43/200\n",
            "4/4 [==============================] - 0s 32ms/step - loss: 0.0083 - val_loss: 0.0092\n",
            "Epoch 44/200\n",
            "4/4 [==============================] - 0s 28ms/step - loss: 0.0082 - val_loss: 0.0090\n",
            "Epoch 45/200\n",
            "4/4 [==============================] - 0s 30ms/step - loss: 0.0082 - val_loss: 0.0090\n",
            "Epoch 46/200\n",
            "4/4 [==============================] - 0s 29ms/step - loss: 0.0081 - val_loss: 0.0090\n",
            "Epoch 47/200\n",
            "4/4 [==============================] - 0s 33ms/step - loss: 0.0080 - val_loss: 0.0089\n",
            "Epoch 48/200\n",
            "4/4 [==============================] - 0s 34ms/step - loss: 0.0080 - val_loss: 0.0088\n",
            "Epoch 49/200\n",
            "4/4 [==============================] - 0s 31ms/step - loss: 0.0079 - val_loss: 0.0089\n",
            "Epoch 50/200\n",
            "4/4 [==============================] - 0s 30ms/step - loss: 0.0079 - val_loss: 0.0088\n",
            "Epoch 51/200\n",
            "4/4 [==============================] - 0s 29ms/step - loss: 0.0079 - val_loss: 0.0088\n",
            "Epoch 52/200\n",
            "4/4 [==============================] - 0s 32ms/step - loss: 0.0078 - val_loss: 0.0089\n",
            "Epoch 53/200\n",
            "4/4 [==============================] - 0s 29ms/step - loss: 0.0078 - val_loss: 0.0090\n",
            "Epoch 54/200\n",
            "4/4 [==============================] - 0s 29ms/step - loss: 0.0078 - val_loss: 0.0088\n",
            "Epoch 55/200\n",
            "4/4 [==============================] - 0s 33ms/step - loss: 0.0077 - val_loss: 0.0086\n",
            "Epoch 56/200\n",
            "4/4 [==============================] - 0s 30ms/step - loss: 0.0077 - val_loss: 0.0086\n",
            "Epoch 57/200\n",
            "4/4 [==============================] - 0s 31ms/step - loss: 0.0076 - val_loss: 0.0087\n",
            "Epoch 58/200\n",
            "4/4 [==============================] - 0s 29ms/step - loss: 0.0076 - val_loss: 0.0085\n",
            "Epoch 59/200\n",
            "4/4 [==============================] - 0s 38ms/step - loss: 0.0075 - val_loss: 0.0084\n",
            "Epoch 60/200\n",
            "4/4 [==============================] - 0s 34ms/step - loss: 0.0075 - val_loss: 0.0084\n",
            "Epoch 61/200\n",
            "4/4 [==============================] - 0s 29ms/step - loss: 0.0074 - val_loss: 0.0084\n",
            "Epoch 62/200\n",
            "4/4 [==============================] - 0s 29ms/step - loss: 0.0076 - val_loss: 0.0084\n",
            "Epoch 63/200\n",
            "4/4 [==============================] - 0s 29ms/step - loss: 0.0076 - val_loss: 0.0084\n",
            "Epoch 64/200\n",
            "4/4 [==============================] - 0s 31ms/step - loss: 0.0075 - val_loss: 0.0083\n",
            "Epoch 65/200\n",
            "4/4 [==============================] - 0s 33ms/step - loss: 0.0074 - val_loss: 0.0083\n",
            "Epoch 66/200\n",
            "4/4 [==============================] - 0s 29ms/step - loss: 0.0074 - val_loss: 0.0084\n",
            "Epoch 67/200\n",
            "4/4 [==============================] - 0s 29ms/step - loss: 0.0074 - val_loss: 0.0086\n",
            "Epoch 68/200\n",
            "4/4 [==============================] - 0s 31ms/step - loss: 0.0074 - val_loss: 0.0085\n",
            "Epoch 69/200\n",
            "4/4 [==============================] - 0s 28ms/step - loss: 0.0074 - val_loss: 0.0083\n",
            "Epoch 70/200\n",
            "4/4 [==============================] - 0s 33ms/step - loss: 0.0074 - val_loss: 0.0083\n",
            "Epoch 71/200\n",
            "4/4 [==============================] - 0s 30ms/step - loss: 0.0075 - val_loss: 0.0082\n",
            "Epoch 72/200\n",
            "4/4 [==============================] - 0s 30ms/step - loss: 0.0074 - val_loss: 0.0083\n",
            "Epoch 73/200\n",
            "4/4 [==============================] - 0s 30ms/step - loss: 0.0073 - val_loss: 0.0082\n",
            "Epoch 74/200\n",
            "4/4 [==============================] - 0s 30ms/step - loss: 0.0073 - val_loss: 0.0084\n",
            "Epoch 75/200\n",
            "4/4 [==============================] - 0s 30ms/step - loss: 0.0073 - val_loss: 0.0083\n",
            "Epoch 76/200\n",
            "4/4 [==============================] - 0s 34ms/step - loss: 0.0072 - val_loss: 0.0082\n",
            "Epoch 77/200\n",
            "4/4 [==============================] - 0s 30ms/step - loss: 0.0072 - val_loss: 0.0082\n",
            "Epoch 78/200\n",
            "4/4 [==============================] - 0s 29ms/step - loss: 0.0072 - val_loss: 0.0083\n",
            "Epoch 79/200\n",
            "4/4 [==============================] - 0s 34ms/step - loss: 0.0072 - val_loss: 0.0081\n",
            "Epoch 80/200\n",
            "4/4 [==============================] - 0s 33ms/step - loss: 0.0071 - val_loss: 0.0081\n",
            "Epoch 81/200\n",
            "4/4 [==============================] - 0s 29ms/step - loss: 0.0071 - val_loss: 0.0081\n",
            "Epoch 82/200\n",
            "4/4 [==============================] - 0s 34ms/step - loss: 0.0070 - val_loss: 0.0081\n",
            "Epoch 83/200\n",
            "4/4 [==============================] - 0s 31ms/step - loss: 0.0071 - val_loss: 0.0081\n",
            "Epoch 84/200\n",
            "4/4 [==============================] - 0s 29ms/step - loss: 0.0070 - val_loss: 0.0081\n",
            "Epoch 85/200\n",
            "4/4 [==============================] - 0s 29ms/step - loss: 0.0070 - val_loss: 0.0081\n",
            "Epoch 86/200\n",
            "4/4 [==============================] - 0s 34ms/step - loss: 0.0070 - val_loss: 0.0081\n",
            "Epoch 87/200\n",
            "4/4 [==============================] - 0s 29ms/step - loss: 0.0070 - val_loss: 0.0080\n",
            "Epoch 88/200\n",
            "4/4 [==============================] - 0s 34ms/step - loss: 0.0069 - val_loss: 0.0080\n",
            "Epoch 89/200\n",
            "4/4 [==============================] - 0s 34ms/step - loss: 0.0069 - val_loss: 0.0081\n",
            "Epoch 90/200\n",
            "4/4 [==============================] - 0s 34ms/step - loss: 0.0069 - val_loss: 0.0081\n",
            "Epoch 91/200\n",
            "4/4 [==============================] - 0s 34ms/step - loss: 0.0069 - val_loss: 0.0080\n",
            "Epoch 92/200\n",
            "4/4 [==============================] - 0s 32ms/step - loss: 0.0069 - val_loss: 0.0080\n",
            "Epoch 93/200\n",
            "4/4 [==============================] - 0s 34ms/step - loss: 0.0069 - val_loss: 0.0080\n",
            "Epoch 94/200\n",
            "4/4 [==============================] - 0s 34ms/step - loss: 0.0069 - val_loss: 0.0081\n",
            "Epoch 95/200\n",
            "4/4 [==============================] - 0s 34ms/step - loss: 0.0071 - val_loss: 0.0081\n",
            "Epoch 96/200\n",
            "4/4 [==============================] - 0s 33ms/step - loss: 0.0070 - val_loss: 0.0080\n",
            "Epoch 97/200\n",
            "4/4 [==============================] - 0s 30ms/step - loss: 0.0069 - val_loss: 0.0080\n",
            "Epoch 98/200\n",
            "4/4 [==============================] - 0s 29ms/step - loss: 0.0068 - val_loss: 0.0080\n",
            "Epoch 99/200\n",
            "4/4 [==============================] - 0s 34ms/step - loss: 0.0068 - val_loss: 0.0081\n",
            "Epoch 100/200\n",
            "4/4 [==============================] - 0s 31ms/step - loss: 0.0069 - val_loss: 0.0080\n",
            "Epoch 101/200\n",
            "4/4 [==============================] - 0s 30ms/step - loss: 0.0068 - val_loss: 0.0080\n",
            "Epoch 102/200\n",
            "4/4 [==============================] - 0s 35ms/step - loss: 0.0068 - val_loss: 0.0079\n",
            "Epoch 103/200\n",
            "4/4 [==============================] - 0s 33ms/step - loss: 0.0068 - val_loss: 0.0079\n",
            "Epoch 104/200\n",
            "4/4 [==============================] - 0s 33ms/step - loss: 0.0068 - val_loss: 0.0079\n",
            "Epoch 105/200\n",
            "4/4 [==============================] - 0s 29ms/step - loss: 0.0067 - val_loss: 0.0079\n",
            "Epoch 106/200\n",
            "4/4 [==============================] - 0s 29ms/step - loss: 0.0068 - val_loss: 0.0079\n",
            "Epoch 107/200\n",
            "4/4 [==============================] - 0s 30ms/step - loss: 0.0067 - val_loss: 0.0080\n",
            "Epoch 108/200\n",
            "4/4 [==============================] - 0s 35ms/step - loss: 0.0067 - val_loss: 0.0079\n",
            "Epoch 109/200\n",
            "4/4 [==============================] - 0s 34ms/step - loss: 0.0067 - val_loss: 0.0078\n",
            "Epoch 110/200\n",
            "4/4 [==============================] - 0s 32ms/step - loss: 0.0067 - val_loss: 0.0080\n",
            "Epoch 111/200\n",
            "4/4 [==============================] - 0s 30ms/step - loss: 0.0067 - val_loss: 0.0079\n",
            "Epoch 112/200\n",
            "4/4 [==============================] - 0s 28ms/step - loss: 0.0068 - val_loss: 0.0078\n",
            "Epoch 113/200\n",
            "4/4 [==============================] - 0s 30ms/step - loss: 0.0067 - val_loss: 0.0079\n",
            "Epoch 114/200\n",
            "4/4 [==============================] - 0s 31ms/step - loss: 0.0067 - val_loss: 0.0078\n",
            "Epoch 115/200\n",
            "4/4 [==============================] - 0s 30ms/step - loss: 0.0068 - val_loss: 0.0080\n",
            "Epoch 116/200\n",
            "4/4 [==============================] - 0s 34ms/step - loss: 0.0068 - val_loss: 0.0084\n",
            "Epoch 117/200\n",
            "4/4 [==============================] - 0s 33ms/step - loss: 0.0069 - val_loss: 0.0080\n",
            "Epoch 118/200\n",
            "4/4 [==============================] - 0s 29ms/step - loss: 0.0067 - val_loss: 0.0079\n",
            "Epoch 119/200\n",
            "4/4 [==============================] - 0s 35ms/step - loss: 0.0066 - val_loss: 0.0078\n",
            "Epoch 120/200\n",
            "4/4 [==============================] - 0s 30ms/step - loss: 0.0066 - val_loss: 0.0079\n",
            "Epoch 121/200\n",
            "4/4 [==============================] - 0s 29ms/step - loss: 0.0067 - val_loss: 0.0079\n",
            "Epoch 122/200\n",
            "4/4 [==============================] - 0s 29ms/step - loss: 0.0069 - val_loss: 0.0082\n",
            "Epoch 123/200\n",
            "4/4 [==============================] - 0s 34ms/step - loss: 0.0069 - val_loss: 0.0078\n",
            "Epoch 124/200\n",
            "4/4 [==============================] - 0s 29ms/step - loss: 0.0067 - val_loss: 0.0078\n",
            "Epoch 125/200\n",
            "4/4 [==============================] - 0s 34ms/step - loss: 0.0066 - val_loss: 0.0080\n",
            "Epoch 126/200\n",
            "4/4 [==============================] - 0s 33ms/step - loss: 0.0067 - val_loss: 0.0079\n",
            "Epoch 127/200\n",
            "4/4 [==============================] - 0s 30ms/step - loss: 0.0066 - val_loss: 0.0080\n",
            "Epoch 128/200\n",
            "4/4 [==============================] - 0s 28ms/step - loss: 0.0066 - val_loss: 0.0079\n",
            "Epoch 129/200\n",
            "4/4 [==============================] - 0s 30ms/step - loss: 0.0066 - val_loss: 0.0079\n",
            "Epoch 130/200\n",
            "4/4 [==============================] - 0s 28ms/step - loss: 0.0065 - val_loss: 0.0079\n",
            "Epoch 131/200\n",
            "4/4 [==============================] - 0s 30ms/step - loss: 0.0065 - val_loss: 0.0078\n",
            "Epoch 132/200\n",
            "4/4 [==============================] - 0s 33ms/step - loss: 0.0064 - val_loss: 0.0078\n",
            "Epoch 133/200\n",
            "4/4 [==============================] - 0s 30ms/step - loss: 0.0064 - val_loss: 0.0077\n",
            "Epoch 134/200\n",
            "4/4 [==============================] - 0s 34ms/step - loss: 0.0064 - val_loss: 0.0078\n",
            "Epoch 135/200\n",
            "4/4 [==============================] - 0s 30ms/step - loss: 0.0064 - val_loss: 0.0078\n",
            "Epoch 136/200\n",
            "4/4 [==============================] - 0s 31ms/step - loss: 0.0064 - val_loss: 0.0077\n",
            "Epoch 137/200\n",
            "4/4 [==============================] - 0s 29ms/step - loss: 0.0064 - val_loss: 0.0077\n",
            "Epoch 138/200\n",
            "4/4 [==============================] - 0s 29ms/step - loss: 0.0064 - val_loss: 0.0078\n",
            "Epoch 139/200\n",
            "4/4 [==============================] - 0s 28ms/step - loss: 0.0064 - val_loss: 0.0078\n",
            "Epoch 140/200\n",
            "4/4 [==============================] - 0s 32ms/step - loss: 0.0065 - val_loss: 0.0078\n",
            "Epoch 141/200\n",
            "4/4 [==============================] - 0s 34ms/step - loss: 0.0065 - val_loss: 0.0078\n",
            "Epoch 142/200\n",
            "4/4 [==============================] - 0s 34ms/step - loss: 0.0064 - val_loss: 0.0077\n",
            "Epoch 143/200\n",
            "4/4 [==============================] - 0s 30ms/step - loss: 0.0063 - val_loss: 0.0077\n",
            "Epoch 144/200\n",
            "4/4 [==============================] - 0s 33ms/step - loss: 0.0063 - val_loss: 0.0077\n",
            "Epoch 145/200\n",
            "4/4 [==============================] - 0s 33ms/step - loss: 0.0063 - val_loss: 0.0077\n",
            "Epoch 146/200\n",
            "4/4 [==============================] - 0s 28ms/step - loss: 0.0063 - val_loss: 0.0077\n",
            "Epoch 147/200\n",
            "4/4 [==============================] - 0s 30ms/step - loss: 0.0063 - val_loss: 0.0077\n",
            "Epoch 148/200\n",
            "4/4 [==============================] - 0s 34ms/step - loss: 0.0064 - val_loss: 0.0078\n",
            "Epoch 149/200\n",
            "4/4 [==============================] - 0s 35ms/step - loss: 0.0064 - val_loss: 0.0078\n",
            "Epoch 150/200\n",
            "4/4 [==============================] - 0s 34ms/step - loss: 0.0063 - val_loss: 0.0078\n",
            "Epoch 151/200\n",
            "4/4 [==============================] - 0s 34ms/step - loss: 0.0063 - val_loss: 0.0078\n",
            "Epoch 152/200\n",
            "4/4 [==============================] - 0s 29ms/step - loss: 0.0063 - val_loss: 0.0079\n",
            "Epoch 153/200\n",
            "4/4 [==============================] - 0s 30ms/step - loss: 0.0063 - val_loss: 0.0078\n",
            "Epoch 154/200\n",
            "4/4 [==============================] - 0s 35ms/step - loss: 0.0063 - val_loss: 0.0077\n",
            "Epoch 155/200\n",
            "4/4 [==============================] - 0s 32ms/step - loss: 0.0063 - val_loss: 0.0077\n",
            "Epoch 156/200\n",
            "4/4 [==============================] - 0s 33ms/step - loss: 0.0063 - val_loss: 0.0077\n",
            "Epoch 157/200\n",
            "4/4 [==============================] - 0s 33ms/step - loss: 0.0062 - val_loss: 0.0077\n",
            "Epoch 158/200\n",
            "4/4 [==============================] - 0s 30ms/step - loss: 0.0062 - val_loss: 0.0077\n",
            "Epoch 159/200\n",
            "4/4 [==============================] - 0s 29ms/step - loss: 0.0062 - val_loss: 0.0077\n",
            "Epoch 160/200\n",
            "4/4 [==============================] - 0s 35ms/step - loss: 0.0062 - val_loss: 0.0077\n",
            "Epoch 161/200\n",
            "4/4 [==============================] - 0s 36ms/step - loss: 0.0062 - val_loss: 0.0078\n",
            "Epoch 162/200\n",
            "4/4 [==============================] - 0s 29ms/step - loss: 0.0062 - val_loss: 0.0077\n",
            "Epoch 163/200\n",
            "4/4 [==============================] - 0s 29ms/step - loss: 0.0062 - val_loss: 0.0077\n",
            "Epoch 164/200\n",
            "4/4 [==============================] - 0s 36ms/step - loss: 0.0062 - val_loss: 0.0077\n",
            "Epoch 165/200\n",
            "4/4 [==============================] - 0s 34ms/step - loss: 0.0063 - val_loss: 0.0078\n",
            "Epoch 166/200\n",
            "4/4 [==============================] - 0s 31ms/step - loss: 0.0062 - val_loss: 0.0078\n",
            "Epoch 167/200\n",
            "4/4 [==============================] - 0s 34ms/step - loss: 0.0062 - val_loss: 0.0077\n",
            "Epoch 168/200\n",
            "4/4 [==============================] - 0s 29ms/step - loss: 0.0062 - val_loss: 0.0077\n",
            "Epoch 169/200\n",
            "4/4 [==============================] - 0s 33ms/step - loss: 0.0062 - val_loss: 0.0077\n",
            "Epoch 170/200\n",
            "4/4 [==============================] - 0s 29ms/step - loss: 0.0061 - val_loss: 0.0078\n",
            "Epoch 171/200\n",
            "4/4 [==============================] - 0s 35ms/step - loss: 0.0062 - val_loss: 0.0077\n",
            "Epoch 172/200\n",
            "4/4 [==============================] - 0s 30ms/step - loss: 0.0062 - val_loss: 0.0077\n",
            "Epoch 173/200\n",
            "4/4 [==============================] - 0s 34ms/step - loss: 0.0061 - val_loss: 0.0076\n",
            "Epoch 174/200\n",
            "4/4 [==============================] - 0s 35ms/step - loss: 0.0061 - val_loss: 0.0077\n",
            "Epoch 175/200\n",
            "4/4 [==============================] - 0s 31ms/step - loss: 0.0061 - val_loss: 0.0077\n",
            "Epoch 176/200\n",
            "4/4 [==============================] - 0s 34ms/step - loss: 0.0061 - val_loss: 0.0078\n",
            "Epoch 177/200\n",
            "4/4 [==============================] - 0s 29ms/step - loss: 0.0061 - val_loss: 0.0077\n",
            "Epoch 178/200\n",
            "4/4 [==============================] - 0s 31ms/step - loss: 0.0061 - val_loss: 0.0077\n",
            "Epoch 179/200\n",
            "4/4 [==============================] - 0s 33ms/step - loss: 0.0061 - val_loss: 0.0077\n",
            "Epoch 180/200\n",
            "4/4 [==============================] - 0s 34ms/step - loss: 0.0061 - val_loss: 0.0076\n",
            "Epoch 181/200\n",
            "4/4 [==============================] - 0s 33ms/step - loss: 0.0061 - val_loss: 0.0076\n",
            "Epoch 182/200\n",
            "4/4 [==============================] - 0s 29ms/step - loss: 0.0061 - val_loss: 0.0077\n",
            "Epoch 183/200\n",
            "4/4 [==============================] - 0s 31ms/step - loss: 0.0060 - val_loss: 0.0076\n",
            "Epoch 184/200\n",
            "4/4 [==============================] - 0s 34ms/step - loss: 0.0060 - val_loss: 0.0077\n",
            "Epoch 185/200\n",
            "4/4 [==============================] - 0s 30ms/step - loss: 0.0060 - val_loss: 0.0076\n",
            "Epoch 186/200\n",
            "4/4 [==============================] - 0s 35ms/step - loss: 0.0060 - val_loss: 0.0076\n",
            "Epoch 187/200\n",
            "4/4 [==============================] - 0s 30ms/step - loss: 0.0061 - val_loss: 0.0077\n",
            "Epoch 188/200\n",
            "4/4 [==============================] - 0s 29ms/step - loss: 0.0060 - val_loss: 0.0077\n",
            "Epoch 189/200\n",
            "4/4 [==============================] - 0s 33ms/step - loss: 0.0060 - val_loss: 0.0077\n",
            "Epoch 190/200\n",
            "4/4 [==============================] - 0s 29ms/step - loss: 0.0060 - val_loss: 0.0077\n",
            "Epoch 191/200\n",
            "4/4 [==============================] - 0s 32ms/step - loss: 0.0060 - val_loss: 0.0078\n",
            "Epoch 192/200\n",
            "4/4 [==============================] - 0s 34ms/step - loss: 0.0060 - val_loss: 0.0076\n",
            "Epoch 193/200\n",
            "4/4 [==============================] - 0s 31ms/step - loss: 0.0060 - val_loss: 0.0081\n",
            "Epoch 194/200\n",
            "4/4 [==============================] - 0s 30ms/step - loss: 0.0062 - val_loss: 0.0083\n",
            "Epoch 195/200\n",
            "4/4 [==============================] - 0s 31ms/step - loss: 0.0065 - val_loss: 0.0083\n",
            "Epoch 196/200\n",
            "4/4 [==============================] - 0s 29ms/step - loss: 0.0064 - val_loss: 0.0082\n",
            "Epoch 197/200\n",
            "4/4 [==============================] - 0s 31ms/step - loss: 0.0063 - val_loss: 0.0078\n",
            "Epoch 198/200\n",
            "4/4 [==============================] - 0s 30ms/step - loss: 0.0061 - val_loss: 0.0080\n",
            "Epoch 199/200\n",
            "4/4 [==============================] - 0s 31ms/step - loss: 0.0061 - val_loss: 0.0077\n",
            "Epoch 200/200\n",
            "4/4 [==============================] - 0s 34ms/step - loss: 0.0061 - val_loss: 0.0076\n"
          ]
        }
      ]
    },
    {
      "cell_type": "code",
      "source": [
        "plt.plot(history.history['loss'][20:], label=\"loss\")\n",
        "plt.plot(history.history['val_loss'][20:], label=\"val_loss\")\n",
        "plt.legend()\n",
        "plt.grid()"
      ],
      "metadata": {
        "id": "VbXJl-rA7D7m",
        "colab": {
          "base_uri": "https://localhost:8080/",
          "height": 265
        },
        "outputId": "fc4f3b2e-35fb-45e8-a30f-9830e8b0ae52"
      },
      "id": "VbXJl-rA7D7m",
      "execution_count": 7,
      "outputs": [
        {
          "output_type": "display_data",
          "data": {
            "image/png": "[encoded data removed]",
            "text/plain": [
              "<Figure size 432x288 with 1 Axes>"
            ]
          },
          "metadata": {
            "needs_background": "light"
          }
        }
      ]
    },
    {
      "cell_type": "code",
      "source": [
        "fig, (ax1, ax2, ax3) = plt.subplots(nrows=1,ncols=3, figsize = (15,15))\n",
        "ax1.imshow(X_test[2:3][0][:,:,:])\n",
        "ax1.set_title(\"Input\")\n",
        "ax2.imshow(y_test[2:3][0][:,:,:])\n",
        "ax2.set_title(\"Ground truth\")\n",
        "ax3.imshow(model.predict(X_test[2:3])[0][:,:,:])\n",
        "ax3.set_title(\"Predicted\")"
      ],
      "metadata": {
        "colab": {
          "base_uri": "https://localhost:8080/",
          "height": 327
        },
        "id": "cvCxNqhrC-jf",
        "outputId": "b78cdc6d-0a94-4978-8d54-2403e4154529"
      },
      "id": "cvCxNqhrC-jf",
      "execution_count": 8,
      "outputs": [
        {
          "output_type": "execute_result",
          "data": {
            "text/plain": [
              "Text(0.5, 1.0, 'Predicted')"
            ]
          },
          "metadata": {},
          "execution_count": 8
        },
        {
          "output_type": "display_data",
          "data": {
            "image/png": "[encoded data removed]",
            "text/plain": [
              "<Figure size 1080x1080 with 3 Axes>"
            ]
          },
          "metadata": {
            "needs_background": "light"
          }
        }
      ]
    },
    {
      "cell_type": "code",
      "source": [
        ""
      ],
      "metadata": {
        "id": "a2JeZDnIDLtd"
      },
      "id": "a2JeZDnIDLtd",
      "execution_count": null,
      "outputs": []
    }
  ],
  "metadata": {
    "kernelspec": {
      "display_name": "Python 3",
      "language": "python",
      "name": "python3"
    },
    "language_info": {
      "codemirror_mode": {
        "name": "ipython",
        "version": 3
      },
      "file_extension": ".py",
      "mimetype": "text/x-python",
      "name": "python",
      "nbconvert_exporter": "python",
      "pygments_lexer": "ipython3",
      "version": "3.7.7"
    },
    "colab": {
      "name": "Sharpen.ipynb",
      "provenance": []
    },
    "accelerator": "GPU"
  },
  "nbformat": 4,
  "nbformat_minor": 5
}