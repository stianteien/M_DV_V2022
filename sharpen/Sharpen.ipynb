{
  "cells": [
    {
      "cell_type": "markdown",
      "id": "7b20aca8",
      "metadata": {
        "id": "7b20aca8"
      },
      "source": [
        "# Sharpen\n",
        "Try to sharpen images"
      ]
    },
    {
      "cell_type": "code",
      "execution_count": 1,
      "id": "f0902a2a",
      "metadata": {
        "id": "f0902a2a",
        "outputId": "2786da92-5111-4317-f3f1-88e050f9e277",
        "colab": {
          "base_uri": "https://localhost:8080/"
        }
      },
      "outputs": [
        {
          "output_type": "stream",
          "name": "stdout",
          "text": [
            "Mounted at /content/gdrive\n",
            "/content/gdrive/MyDrive/M_DV_V2022\n"
          ]
        }
      ],
      "source": [
        "from google.colab import drive\n",
        "drive.mount('/content/gdrive')\n",
        "%cd gdrive/MyDrive/M_DV_V2022"
      ]
    },
    {
      "cell_type": "markdown",
      "source": [
        "### Imports"
      ],
      "metadata": {
        "id": "hq-quEnV6nDI"
      },
      "id": "hq-quEnV6nDI"
    },
    {
      "cell_type": "code",
      "source": [
        "import numpy as np\n",
        "import matplotlib.pyplot as plt\n",
        "\n",
        "from sklearn.model_selection import train_test_split\n",
        "from sklearn.preprocessing import StandardScaler\n",
        "\n",
        "from keras.models import Sequential\n",
        "from keras.layers import Input, Dense, Conv2D, Flatten, \\\n",
        "                         UpSampling2D, Conv2DTranspose, MaxPooling2D, \\\n",
        "                         Dropout"
      ],
      "metadata": {
        "id": "vcG1PYEO6leF"
      },
      "id": "vcG1PYEO6leF",
      "execution_count": 2,
      "outputs": []
    },
    {
      "cell_type": "markdown",
      "source": [
        "### Load data"
      ],
      "metadata": {
        "id": "98t0D2JX6tcC"
      },
      "id": "98t0D2JX6tcC"
    },
    {
      "cell_type": "code",
      "source": [
        "X = np.load(\"sharpen/X_data.npy\")\n",
        "y = np.load(\"sharpen/y_data.npy\")\n",
        "\n",
        "X_train, X_test, y_train, y_test = train_test_split(X, \n",
        "                                                    y, \n",
        "                                                    test_size=0.2, \n",
        "                                                    random_state=42)"
      ],
      "metadata": {
        "id": "uVlOpmjF6sug"
      },
      "id": "uVlOpmjF6sug",
      "execution_count": 3,
      "outputs": []
    },
    {
      "cell_type": "code",
      "source": [
        "snitt = X_train.mean()\n",
        "var = X_train.var()\n",
        "\n",
        "snitt_y = y_train.mean()\n",
        "var_y = y_train.var()\n",
        "\n",
        "#X_train = (X_train - snitt) / var\n",
        "#X_test = (X_test - snitt) / var\n",
        "\n",
        "#y_train = (y_train - snitt_y) / var_y\n",
        "#y_test = (y_test - snitt_y) / var_y"
      ],
      "metadata": {
        "id": "jeBmCs1kKjqa"
      },
      "id": "jeBmCs1kKjqa",
      "execution_count": 4,
      "outputs": []
    },
    {
      "cell_type": "markdown",
      "source": [
        "### Make model"
      ],
      "metadata": {
        "id": "-OUSENL-66ux"
      },
      "id": "-OUSENL-66ux"
    },
    {
      "cell_type": "code",
      "source": [
        "model = Sequential()\n",
        "\n",
        "model.add(Input(shape=(30,30,3)))\n",
        "model.add(Conv2D(32, kernel_size=3, activation='relu',\n",
        "                     padding='valid'))\n",
        "model.add(MaxPooling2D(2))\n",
        "model.add(Conv2DTranspose(32, kernel_size=3, activation='relu',\n",
        "                padding='same'))\n",
        "model.add(UpSampling2D(5))\n",
        "model.add(Conv2D(32, kernel_size=3, activation='relu',\n",
        "                 padding='same'))\n",
        "model.add(Conv2D(32, kernel_size=3, activation='relu',\n",
        "                 padding='same'))\n",
        "\n",
        "model.add(Conv2D(3, kernel_size=3, activation='sigmoid',\n",
        "                 padding='same'))\n",
        "\n",
        "#model.add(Conv2DTranspose(32, kernel_size=3, padding=\"same\"))\n",
        "#model.add(UpSampling2D(3))\n",
        "\n",
        "model.summary()\n",
        "model.compile(optimizer='adam',\n",
        "              loss='mse')"
      ],
      "metadata": {
        "id": "fQnfE2T16waE",
        "outputId": "2c5000a8-9766-4080-e511-fec37d75c620",
        "colab": {
          "base_uri": "https://localhost:8080/"
        }
      },
      "id": "fQnfE2T16waE",
      "execution_count": 8,
      "outputs": [
        {
          "output_type": "stream",
          "name": "stdout",
          "text": [
            "Model: \"sequential_3\"\n",
            "_________________________________________________________________\n",
            " Layer (type)                Output Shape              Param #   \n",
            "=================================================================\n",
            " conv2d_14 (Conv2D)          (None, 28, 28, 32)        896       \n",
            "                                                                 \n",
            " max_pooling2d_5 (MaxPooling  (None, 14, 14, 32)       0         \n",
            " 2D)                                                             \n",
            "                                                                 \n",
            " conv2d_transpose_1 (Conv2DT  (None, 14, 14, 32)       9248      \n",
            " ranspose)                                                       \n",
            "                                                                 \n",
            " up_sampling2d_5 (UpSampling  (None, 70, 70, 32)       0         \n",
            " 2D)                                                             \n",
            "                                                                 \n",
            " conv2d_15 (Conv2D)          (None, 70, 70, 32)        9248      \n",
            "                                                                 \n",
            " conv2d_16 (Conv2D)          (None, 70, 70, 32)        9248      \n",
            "                                                                 \n",
            " conv2d_17 (Conv2D)          (None, 70, 70, 3)         867       \n",
            "                                                                 \n",
            "=================================================================\n",
            "Total params: 29,507\n",
            "Trainable params: 29,507\n",
            "Non-trainable params: 0\n",
            "_________________________________________________________________\n"
          ]
        }
      ]
    },
    {
      "cell_type": "markdown",
      "source": [
        "## Train model"
      ],
      "metadata": {
        "id": "puvoQQRA7AiB"
      },
      "id": "puvoQQRA7AiB"
    },
    {
      "cell_type": "code",
      "source": [
        "history = model.fit(X_train,y_train,\n",
        "                    validation_data=(X_test,y_test),\n",
        "                    epochs=200, batch_size=10, verbose=1)"
      ],
      "metadata": {
        "id": "YZNKVX1Z6-Jd",
        "outputId": "f52d599f-5668-46b9-d599-23b90b15b98e",
        "colab": {
          "base_uri": "https://localhost:8080/"
        }
      },
      "id": "YZNKVX1Z6-Jd",
      "execution_count": 9,
      "outputs": [
        {
          "output_type": "stream",
          "name": "stdout",
          "text": [
            "Epoch 1/200\n",
            "4/4 [==============================] - 9s 83ms/step - loss: 2969.7495 - val_loss: 1618.8927\n",
            "Epoch 2/200\n",
            "4/4 [==============================] - 0s 24ms/step - loss: 1404.3741 - val_loss: 1300.7888\n",
            "Epoch 3/200\n",
            "4/4 [==============================] - 0s 29ms/step - loss: 1068.8455 - val_loss: 1279.7668\n",
            "Epoch 4/200\n",
            "4/4 [==============================] - 0s 23ms/step - loss: 1050.9832 - val_loss: 1095.9203\n",
            "Epoch 5/200\n",
            "4/4 [==============================] - 0s 28ms/step - loss: 924.8993 - val_loss: 965.9546\n",
            "Epoch 6/200\n",
            "4/4 [==============================] - 0s 24ms/step - loss: 830.0918 - val_loss: 930.4372\n",
            "Epoch 7/200\n",
            "4/4 [==============================] - 0s 23ms/step - loss: 794.0355 - val_loss: 877.2443\n",
            "Epoch 8/200\n",
            "4/4 [==============================] - 0s 23ms/step - loss: 748.3784 - val_loss: 852.3397\n",
            "Epoch 9/200\n",
            "4/4 [==============================] - 0s 23ms/step - loss: 723.6381 - val_loss: 839.2139\n",
            "Epoch 10/200\n",
            "4/4 [==============================] - 0s 24ms/step - loss: 708.5699 - val_loss: 816.3208\n",
            "Epoch 11/200\n",
            "4/4 [==============================] - 0s 25ms/step - loss: 691.3127 - val_loss: 804.7111\n",
            "Epoch 12/200\n",
            "4/4 [==============================] - 0s 24ms/step - loss: 671.9583 - val_loss: 782.0627\n",
            "Epoch 13/200\n",
            "4/4 [==============================] - 0s 23ms/step - loss: 657.3865 - val_loss: 776.6633\n",
            "Epoch 14/200\n",
            "4/4 [==============================] - 0s 28ms/step - loss: 650.1500 - val_loss: 752.1752\n",
            "Epoch 15/200\n",
            "4/4 [==============================] - 0s 28ms/step - loss: 638.0790 - val_loss: 743.5536\n",
            "Epoch 16/200\n",
            "4/4 [==============================] - 0s 23ms/step - loss: 630.6825 - val_loss: 737.5635\n",
            "Epoch 17/200\n",
            "4/4 [==============================] - 0s 31ms/step - loss: 623.6692 - val_loss: 730.1146\n",
            "Epoch 18/200\n",
            "4/4 [==============================] - 0s 24ms/step - loss: 613.9296 - val_loss: 730.1464\n",
            "Epoch 19/200\n",
            "4/4 [==============================] - 0s 23ms/step - loss: 610.2700 - val_loss: 712.8790\n",
            "Epoch 20/200\n",
            "4/4 [==============================] - 0s 23ms/step - loss: 600.3929 - val_loss: 705.6276\n",
            "Epoch 21/200\n",
            "4/4 [==============================] - 0s 23ms/step - loss: 593.8633 - val_loss: 704.9275\n",
            "Epoch 22/200\n",
            "4/4 [==============================] - 0s 23ms/step - loss: 589.3381 - val_loss: 693.9750\n",
            "Epoch 23/200\n",
            "4/4 [==============================] - 0s 26ms/step - loss: 580.8392 - val_loss: 685.1461\n",
            "Epoch 24/200\n",
            "4/4 [==============================] - 0s 24ms/step - loss: 573.4788 - val_loss: 680.1707\n",
            "Epoch 25/200\n",
            "4/4 [==============================] - 0s 28ms/step - loss: 567.7850 - val_loss: 673.6246\n",
            "Epoch 26/200\n",
            "4/4 [==============================] - 0s 23ms/step - loss: 562.2517 - val_loss: 668.7054\n",
            "Epoch 27/200\n",
            "4/4 [==============================] - 0s 30ms/step - loss: 557.0341 - val_loss: 666.1620\n",
            "Epoch 28/200\n",
            "4/4 [==============================] - 0s 23ms/step - loss: 551.1202 - val_loss: 659.6564\n",
            "Epoch 29/200\n",
            "4/4 [==============================] - 0s 23ms/step - loss: 543.3251 - val_loss: 657.6442\n",
            "Epoch 30/200\n",
            "4/4 [==============================] - 0s 23ms/step - loss: 538.4017 - val_loss: 655.0397\n",
            "Epoch 31/200\n",
            "4/4 [==============================] - 0s 28ms/step - loss: 534.4398 - val_loss: 649.9946\n",
            "Epoch 32/200\n",
            "4/4 [==============================] - 0s 24ms/step - loss: 529.0428 - val_loss: 644.3300\n",
            "Epoch 33/200\n",
            "4/4 [==============================] - 0s 24ms/step - loss: 524.8331 - val_loss: 643.6105\n",
            "Epoch 34/200\n",
            "4/4 [==============================] - 0s 23ms/step - loss: 521.2267 - val_loss: 644.0320\n",
            "Epoch 35/200\n",
            "4/4 [==============================] - 0s 24ms/step - loss: 516.3965 - val_loss: 636.3599\n",
            "Epoch 36/200\n",
            "4/4 [==============================] - 0s 28ms/step - loss: 512.3141 - val_loss: 637.2731\n",
            "Epoch 37/200\n",
            "4/4 [==============================] - 0s 24ms/step - loss: 508.1291 - val_loss: 630.1558\n",
            "Epoch 38/200\n",
            "4/4 [==============================] - 0s 24ms/step - loss: 506.6619 - val_loss: 631.0957\n",
            "Epoch 39/200\n",
            "4/4 [==============================] - 0s 25ms/step - loss: 500.5170 - val_loss: 631.3589\n",
            "Epoch 40/200\n",
            "4/4 [==============================] - 0s 22ms/step - loss: 498.5242 - val_loss: 627.9371\n",
            "Epoch 41/200\n",
            "4/4 [==============================] - 0s 27ms/step - loss: 497.3398 - val_loss: 629.5740\n",
            "Epoch 42/200\n",
            "4/4 [==============================] - 0s 23ms/step - loss: 494.3111 - val_loss: 627.1441\n",
            "Epoch 43/200\n",
            "4/4 [==============================] - 0s 28ms/step - loss: 489.4208 - val_loss: 627.4250\n",
            "Epoch 44/200\n",
            "4/4 [==============================] - 0s 28ms/step - loss: 486.1424 - val_loss: 625.2330\n",
            "Epoch 45/200\n",
            "4/4 [==============================] - 0s 22ms/step - loss: 483.6558 - val_loss: 624.9359\n",
            "Epoch 46/200\n",
            "4/4 [==============================] - 0s 28ms/step - loss: 482.0044 - val_loss: 629.9696\n",
            "Epoch 47/200\n",
            "4/4 [==============================] - 0s 27ms/step - loss: 481.6882 - val_loss: 629.3746\n",
            "Epoch 48/200\n",
            "4/4 [==============================] - 0s 31ms/step - loss: 482.2387 - val_loss: 632.5474\n",
            "Epoch 49/200\n",
            "4/4 [==============================] - 0s 28ms/step - loss: 475.2939 - val_loss: 624.4200\n",
            "Epoch 50/200\n",
            "4/4 [==============================] - 0s 23ms/step - loss: 473.4390 - val_loss: 625.6721\n",
            "Epoch 51/200\n",
            "4/4 [==============================] - 0s 23ms/step - loss: 472.3514 - val_loss: 625.3766\n",
            "Epoch 52/200\n",
            "4/4 [==============================] - 0s 23ms/step - loss: 468.1426 - val_loss: 625.5419\n",
            "Epoch 53/200\n",
            "4/4 [==============================] - 0s 29ms/step - loss: 467.5236 - val_loss: 624.4666\n",
            "Epoch 54/200\n",
            "4/4 [==============================] - 0s 30ms/step - loss: 467.4703 - val_loss: 624.0333\n",
            "Epoch 55/200\n",
            "4/4 [==============================] - 0s 28ms/step - loss: 460.2344 - val_loss: 619.2680\n",
            "Epoch 56/200\n",
            "4/4 [==============================] - 0s 23ms/step - loss: 457.5187 - val_loss: 625.4891\n",
            "Epoch 57/200\n",
            "4/4 [==============================] - 0s 28ms/step - loss: 456.7986 - val_loss: 623.5953\n",
            "Epoch 58/200\n",
            "4/4 [==============================] - 0s 27ms/step - loss: 452.5886 - val_loss: 624.7783\n",
            "Epoch 59/200\n",
            "4/4 [==============================] - 0s 23ms/step - loss: 449.7623 - val_loss: 624.2049\n",
            "Epoch 60/200\n",
            "4/4 [==============================] - 0s 27ms/step - loss: 447.1831 - val_loss: 627.8242\n",
            "Epoch 61/200\n",
            "4/4 [==============================] - 0s 23ms/step - loss: 444.9935 - val_loss: 628.0626\n",
            "Epoch 62/200\n",
            "4/4 [==============================] - 0s 28ms/step - loss: 446.1209 - val_loss: 630.6556\n",
            "Epoch 63/200\n",
            "4/4 [==============================] - 0s 24ms/step - loss: 443.6716 - val_loss: 639.4356\n",
            "Epoch 64/200\n",
            "4/4 [==============================] - 0s 24ms/step - loss: 441.8105 - val_loss: 632.2845\n",
            "Epoch 65/200\n",
            "4/4 [==============================] - 0s 28ms/step - loss: 439.2110 - val_loss: 632.1979\n",
            "Epoch 66/200\n",
            "4/4 [==============================] - 0s 28ms/step - loss: 437.2718 - val_loss: 636.5931\n",
            "Epoch 67/200\n",
            "4/4 [==============================] - 0s 23ms/step - loss: 435.5963 - val_loss: 638.8006\n",
            "Epoch 68/200\n",
            "4/4 [==============================] - 0s 25ms/step - loss: 435.7728 - val_loss: 640.4691\n",
            "Epoch 69/200\n",
            "4/4 [==============================] - 0s 23ms/step - loss: 433.8670 - val_loss: 649.5762\n",
            "Epoch 70/200\n",
            "4/4 [==============================] - 0s 24ms/step - loss: 434.4476 - val_loss: 660.9979\n",
            "Epoch 71/200\n",
            "4/4 [==============================] - 0s 27ms/step - loss: 437.9341 - val_loss: 657.5704\n",
            "Epoch 72/200\n",
            "4/4 [==============================] - 0s 28ms/step - loss: 434.2488 - val_loss: 659.5276\n",
            "Epoch 73/200\n",
            "4/4 [==============================] - 0s 24ms/step - loss: 429.6496 - val_loss: 645.5796\n",
            "Epoch 74/200\n",
            "4/4 [==============================] - 0s 24ms/step - loss: 427.6439 - val_loss: 652.4008\n",
            "Epoch 75/200\n",
            "4/4 [==============================] - 0s 28ms/step - loss: 423.8062 - val_loss: 653.6870\n",
            "Epoch 76/200\n",
            "4/4 [==============================] - 0s 26ms/step - loss: 422.5325 - val_loss: 654.3643\n",
            "Epoch 77/200\n",
            "4/4 [==============================] - 0s 23ms/step - loss: 426.6226 - val_loss: 658.2986\n",
            "Epoch 78/200\n",
            "4/4 [==============================] - 0s 24ms/step - loss: 423.0229 - val_loss: 653.7444\n",
            "Epoch 79/200\n",
            "4/4 [==============================] - 0s 24ms/step - loss: 419.0309 - val_loss: 656.0630\n",
            "Epoch 80/200\n",
            "4/4 [==============================] - 0s 24ms/step - loss: 419.6269 - val_loss: 663.2872\n",
            "Epoch 81/200\n",
            "4/4 [==============================] - 0s 23ms/step - loss: 419.4390 - val_loss: 652.7310\n",
            "Epoch 82/200\n",
            "4/4 [==============================] - 0s 24ms/step - loss: 414.5007 - val_loss: 671.5496\n",
            "Epoch 83/200\n",
            "4/4 [==============================] - 0s 28ms/step - loss: 411.0091 - val_loss: 659.8666\n",
            "Epoch 84/200\n",
            "4/4 [==============================] - 0s 26ms/step - loss: 409.4055 - val_loss: 668.8375\n",
            "Epoch 85/200\n",
            "4/4 [==============================] - 0s 24ms/step - loss: 404.9548 - val_loss: 662.9725\n",
            "Epoch 86/200\n",
            "4/4 [==============================] - 0s 28ms/step - loss: 406.5858 - val_loss: 671.8222\n",
            "Epoch 87/200\n",
            "4/4 [==============================] - 0s 25ms/step - loss: 406.9174 - val_loss: 686.9344\n",
            "Epoch 88/200\n",
            "4/4 [==============================] - 0s 23ms/step - loss: 403.3219 - val_loss: 681.2180\n",
            "Epoch 89/200\n",
            "4/4 [==============================] - 0s 29ms/step - loss: 400.8919 - val_loss: 681.6867\n",
            "Epoch 90/200\n",
            "4/4 [==============================] - 0s 24ms/step - loss: 400.2307 - val_loss: 677.8477\n",
            "Epoch 91/200\n",
            "4/4 [==============================] - 0s 29ms/step - loss: 401.7210 - val_loss: 699.1301\n",
            "Epoch 92/200\n",
            "4/4 [==============================] - 0s 23ms/step - loss: 413.4394 - val_loss: 679.3815\n",
            "Epoch 93/200\n",
            "4/4 [==============================] - 0s 24ms/step - loss: 401.0009 - val_loss: 675.4444\n",
            "Epoch 94/200\n",
            "4/4 [==============================] - 0s 23ms/step - loss: 395.4756 - val_loss: 680.7510\n",
            "Epoch 95/200\n",
            "4/4 [==============================] - 0s 24ms/step - loss: 393.1498 - val_loss: 692.7201\n",
            "Epoch 96/200\n",
            "4/4 [==============================] - 0s 28ms/step - loss: 393.4876 - val_loss: 690.6935\n",
            "Epoch 97/200\n",
            "4/4 [==============================] - 0s 28ms/step - loss: 390.4446 - val_loss: 689.1393\n",
            "Epoch 98/200\n",
            "4/4 [==============================] - 0s 28ms/step - loss: 389.8796 - val_loss: 696.3241\n",
            "Epoch 99/200\n",
            "4/4 [==============================] - 0s 24ms/step - loss: 387.8890 - val_loss: 691.2682\n",
            "Epoch 100/200\n",
            "4/4 [==============================] - 0s 29ms/step - loss: 384.6985 - val_loss: 683.6076\n",
            "Epoch 101/200\n",
            "4/4 [==============================] - 0s 24ms/step - loss: 383.5399 - val_loss: 685.2925\n",
            "Epoch 102/200\n",
            "4/4 [==============================] - 0s 31ms/step - loss: 383.1868 - val_loss: 693.2808\n",
            "Epoch 103/200\n",
            "4/4 [==============================] - 0s 29ms/step - loss: 382.6024 - val_loss: 695.0789\n",
            "Epoch 104/200\n",
            "4/4 [==============================] - 0s 23ms/step - loss: 380.9811 - val_loss: 686.4519\n",
            "Epoch 105/200\n",
            "4/4 [==============================] - 0s 32ms/step - loss: 380.9079 - val_loss: 688.0892\n",
            "Epoch 106/200\n",
            "4/4 [==============================] - 0s 24ms/step - loss: 380.8513 - val_loss: 696.9094\n",
            "Epoch 107/200\n",
            "4/4 [==============================] - 0s 28ms/step - loss: 381.5143 - val_loss: 704.2936\n",
            "Epoch 108/200\n",
            "4/4 [==============================] - 0s 26ms/step - loss: 384.1412 - val_loss: 688.8663\n",
            "Epoch 109/200\n",
            "4/4 [==============================] - 0s 26ms/step - loss: 383.0538 - val_loss: 697.1711\n",
            "Epoch 110/200\n",
            "4/4 [==============================] - 0s 24ms/step - loss: 382.0994 - val_loss: 691.2944\n",
            "Epoch 111/200\n",
            "4/4 [==============================] - 0s 24ms/step - loss: 386.2108 - val_loss: 698.1850\n",
            "Epoch 112/200\n",
            "4/4 [==============================] - 0s 23ms/step - loss: 391.2580 - val_loss: 708.2027\n",
            "Epoch 113/200\n",
            "4/4 [==============================] - 0s 29ms/step - loss: 390.0823 - val_loss: 715.8239\n",
            "Epoch 114/200\n",
            "4/4 [==============================] - 0s 28ms/step - loss: 392.1954 - val_loss: 705.2697\n",
            "Epoch 115/200\n",
            "4/4 [==============================] - 0s 28ms/step - loss: 383.4855 - val_loss: 690.3781\n",
            "Epoch 116/200\n",
            "4/4 [==============================] - 0s 26ms/step - loss: 377.4670 - val_loss: 717.6961\n",
            "Epoch 117/200\n",
            "4/4 [==============================] - 0s 24ms/step - loss: 376.8895 - val_loss: 686.0978\n",
            "Epoch 118/200\n",
            "4/4 [==============================] - 0s 31ms/step - loss: 374.9126 - val_loss: 705.1646\n",
            "Epoch 119/200\n",
            "4/4 [==============================] - 0s 29ms/step - loss: 373.5737 - val_loss: 693.5834\n",
            "Epoch 120/200\n",
            "4/4 [==============================] - 0s 24ms/step - loss: 382.1166 - val_loss: 714.7701\n",
            "Epoch 121/200\n",
            "4/4 [==============================] - 0s 29ms/step - loss: 380.7139 - val_loss: 709.7934\n",
            "Epoch 122/200\n",
            "4/4 [==============================] - 0s 32ms/step - loss: 376.6411 - val_loss: 718.7791\n",
            "Epoch 123/200\n",
            "4/4 [==============================] - 0s 24ms/step - loss: 373.3601 - val_loss: 712.0806\n",
            "Epoch 124/200\n",
            "4/4 [==============================] - 0s 27ms/step - loss: 371.4829 - val_loss: 691.1047\n",
            "Epoch 125/200\n",
            "4/4 [==============================] - 0s 27ms/step - loss: 370.1202 - val_loss: 697.2213\n",
            "Epoch 126/200\n",
            "4/4 [==============================] - 0s 24ms/step - loss: 369.1247 - val_loss: 708.1306\n",
            "Epoch 127/200\n",
            "4/4 [==============================] - 0s 27ms/step - loss: 365.0342 - val_loss: 715.3470\n",
            "Epoch 128/200\n",
            "4/4 [==============================] - 0s 29ms/step - loss: 364.8148 - val_loss: 720.6626\n",
            "Epoch 129/200\n",
            "4/4 [==============================] - 0s 27ms/step - loss: 360.1829 - val_loss: 718.8488\n",
            "Epoch 130/200\n",
            "4/4 [==============================] - 0s 31ms/step - loss: 358.1104 - val_loss: 701.7820\n",
            "Epoch 131/200\n",
            "4/4 [==============================] - 0s 32ms/step - loss: 358.8335 - val_loss: 711.9344\n",
            "Epoch 132/200\n",
            "4/4 [==============================] - 0s 28ms/step - loss: 363.5217 - val_loss: 715.9766\n",
            "Epoch 133/200\n",
            "4/4 [==============================] - 0s 24ms/step - loss: 366.2948 - val_loss: 722.8189\n",
            "Epoch 134/200\n",
            "4/4 [==============================] - 0s 26ms/step - loss: 360.1970 - val_loss: 710.4214\n",
            "Epoch 135/200\n",
            "4/4 [==============================] - 0s 27ms/step - loss: 356.4272 - val_loss: 705.4059\n",
            "Epoch 136/200\n",
            "4/4 [==============================] - 0s 31ms/step - loss: 359.1775 - val_loss: 717.5890\n",
            "Epoch 137/200\n",
            "4/4 [==============================] - 0s 32ms/step - loss: 359.1737 - val_loss: 706.2354\n",
            "Epoch 138/200\n",
            "4/4 [==============================] - 0s 24ms/step - loss: 357.6510 - val_loss: 719.3882\n",
            "Epoch 139/200\n",
            "4/4 [==============================] - 0s 26ms/step - loss: 356.6561 - val_loss: 723.2027\n",
            "Epoch 140/200\n",
            "4/4 [==============================] - 0s 28ms/step - loss: 357.6499 - val_loss: 724.2216\n",
            "Epoch 141/200\n",
            "4/4 [==============================] - 0s 26ms/step - loss: 357.1334 - val_loss: 725.5825\n",
            "Epoch 142/200\n",
            "4/4 [==============================] - 0s 28ms/step - loss: 356.6776 - val_loss: 716.9949\n",
            "Epoch 143/200\n",
            "4/4 [==============================] - 0s 33ms/step - loss: 353.3045 - val_loss: 716.1274\n",
            "Epoch 144/200\n",
            "4/4 [==============================] - 0s 28ms/step - loss: 354.1703 - val_loss: 740.2475\n",
            "Epoch 145/200\n",
            "4/4 [==============================] - 0s 23ms/step - loss: 352.8815 - val_loss: 721.8279\n",
            "Epoch 146/200\n",
            "4/4 [==============================] - 0s 25ms/step - loss: 361.9641 - val_loss: 760.9234\n",
            "Epoch 147/200\n",
            "4/4 [==============================] - 0s 24ms/step - loss: 358.5915 - val_loss: 721.2658\n",
            "Epoch 148/200\n",
            "4/4 [==============================] - 0s 30ms/step - loss: 363.1823 - val_loss: 712.5015\n",
            "Epoch 149/200\n",
            "4/4 [==============================] - 0s 31ms/step - loss: 354.5526 - val_loss: 730.0670\n",
            "Epoch 150/200\n",
            "4/4 [==============================] - 0s 31ms/step - loss: 354.6913 - val_loss: 699.2828\n",
            "Epoch 151/200\n",
            "4/4 [==============================] - 0s 26ms/step - loss: 355.7307 - val_loss: 747.6143\n",
            "Epoch 152/200\n",
            "4/4 [==============================] - 0s 26ms/step - loss: 363.1441 - val_loss: 717.4075\n",
            "Epoch 153/200\n",
            "4/4 [==============================] - 0s 23ms/step - loss: 363.8998 - val_loss: 720.7227\n",
            "Epoch 154/200\n",
            "4/4 [==============================] - 0s 27ms/step - loss: 355.0382 - val_loss: 737.3861\n",
            "Epoch 155/200\n",
            "4/4 [==============================] - 0s 24ms/step - loss: 355.7227 - val_loss: 765.9979\n",
            "Epoch 156/200\n",
            "4/4 [==============================] - 0s 28ms/step - loss: 362.2726 - val_loss: 759.9796\n",
            "Epoch 157/200\n",
            "4/4 [==============================] - 0s 28ms/step - loss: 357.7296 - val_loss: 732.3804\n",
            "Epoch 158/200\n",
            "4/4 [==============================] - 0s 32ms/step - loss: 350.7429 - val_loss: 707.3659\n",
            "Epoch 159/200\n",
            "4/4 [==============================] - 0s 24ms/step - loss: 348.7799 - val_loss: 724.6384\n",
            "Epoch 160/200\n",
            "4/4 [==============================] - 0s 27ms/step - loss: 348.2491 - val_loss: 723.7216\n",
            "Epoch 161/200\n",
            "4/4 [==============================] - 0s 33ms/step - loss: 344.1508 - val_loss: 720.3946\n",
            "Epoch 162/200\n",
            "4/4 [==============================] - 0s 25ms/step - loss: 344.2941 - val_loss: 733.1227\n",
            "Epoch 163/200\n",
            "4/4 [==============================] - 0s 32ms/step - loss: 340.6812 - val_loss: 712.6328\n",
            "Epoch 164/200\n",
            "4/4 [==============================] - 0s 28ms/step - loss: 339.8599 - val_loss: 735.9413\n",
            "Epoch 165/200\n",
            "4/4 [==============================] - 0s 27ms/step - loss: 337.9086 - val_loss: 732.4825\n",
            "Epoch 166/200\n",
            "4/4 [==============================] - 0s 30ms/step - loss: 338.6241 - val_loss: 720.9529\n",
            "Epoch 167/200\n",
            "4/4 [==============================] - 0s 27ms/step - loss: 335.7018 - val_loss: 733.6524\n",
            "Epoch 168/200\n",
            "4/4 [==============================] - 0s 24ms/step - loss: 335.1631 - val_loss: 727.5085\n",
            "Epoch 169/200\n",
            "4/4 [==============================] - 0s 28ms/step - loss: 335.7708 - val_loss: 740.6364\n",
            "Epoch 170/200\n",
            "4/4 [==============================] - 0s 26ms/step - loss: 333.8993 - val_loss: 730.3600\n",
            "Epoch 171/200\n",
            "4/4 [==============================] - 0s 29ms/step - loss: 333.8067 - val_loss: 729.0955\n",
            "Epoch 172/200\n",
            "4/4 [==============================] - 0s 27ms/step - loss: 334.8837 - val_loss: 735.9709\n",
            "Epoch 173/200\n",
            "4/4 [==============================] - 0s 26ms/step - loss: 333.9604 - val_loss: 715.5403\n",
            "Epoch 174/200\n",
            "4/4 [==============================] - 0s 23ms/step - loss: 334.5898 - val_loss: 748.8897\n",
            "Epoch 175/200\n",
            "4/4 [==============================] - 0s 23ms/step - loss: 336.4107 - val_loss: 719.5513\n",
            "Epoch 176/200\n",
            "4/4 [==============================] - 0s 24ms/step - loss: 333.7700 - val_loss: 749.2206\n",
            "Epoch 177/200\n",
            "4/4 [==============================] - 0s 31ms/step - loss: 333.4252 - val_loss: 719.8795\n",
            "Epoch 178/200\n",
            "4/4 [==============================] - 0s 30ms/step - loss: 332.1735 - val_loss: 740.9455\n",
            "Epoch 179/200\n",
            "4/4 [==============================] - 0s 24ms/step - loss: 332.3017 - val_loss: 731.9849\n",
            "Epoch 180/200\n",
            "4/4 [==============================] - 0s 24ms/step - loss: 331.9862 - val_loss: 742.0612\n",
            "Epoch 181/200\n",
            "4/4 [==============================] - 0s 32ms/step - loss: 332.0842 - val_loss: 738.2734\n",
            "Epoch 182/200\n",
            "4/4 [==============================] - 0s 29ms/step - loss: 331.5049 - val_loss: 733.2794\n",
            "Epoch 183/200\n",
            "4/4 [==============================] - 0s 27ms/step - loss: 336.7011 - val_loss: 738.5685\n",
            "Epoch 184/200\n",
            "4/4 [==============================] - 0s 32ms/step - loss: 335.7867 - val_loss: 735.9040\n",
            "Epoch 185/200\n",
            "4/4 [==============================] - 0s 28ms/step - loss: 332.4724 - val_loss: 743.2895\n",
            "Epoch 186/200\n",
            "4/4 [==============================] - 0s 26ms/step - loss: 327.9593 - val_loss: 738.8878\n",
            "Epoch 187/200\n",
            "4/4 [==============================] - 0s 31ms/step - loss: 327.6614 - val_loss: 756.8479\n",
            "Epoch 188/200\n",
            "4/4 [==============================] - 0s 32ms/step - loss: 331.4639 - val_loss: 747.4591\n",
            "Epoch 189/200\n",
            "4/4 [==============================] - 0s 27ms/step - loss: 330.3389 - val_loss: 750.8578\n",
            "Epoch 190/200\n",
            "4/4 [==============================] - 0s 23ms/step - loss: 328.0679 - val_loss: 772.5135\n",
            "Epoch 191/200\n",
            "4/4 [==============================] - 0s 31ms/step - loss: 327.5894 - val_loss: 748.4880\n",
            "Epoch 192/200\n",
            "4/4 [==============================] - 0s 26ms/step - loss: 324.1797 - val_loss: 767.8679\n",
            "Epoch 193/200\n",
            "4/4 [==============================] - 0s 27ms/step - loss: 324.9121 - val_loss: 732.6464\n",
            "Epoch 194/200\n",
            "4/4 [==============================] - 0s 26ms/step - loss: 327.3546 - val_loss: 741.7680\n",
            "Epoch 195/200\n",
            "4/4 [==============================] - 0s 24ms/step - loss: 324.7144 - val_loss: 751.6938\n",
            "Epoch 196/200\n",
            "4/4 [==============================] - 0s 35ms/step - loss: 325.5869 - val_loss: 761.8010\n",
            "Epoch 197/200\n",
            "4/4 [==============================] - 0s 23ms/step - loss: 326.3686 - val_loss: 747.4664\n",
            "Epoch 198/200\n",
            "4/4 [==============================] - 0s 28ms/step - loss: 321.9966 - val_loss: 754.8167\n",
            "Epoch 199/200\n",
            "4/4 [==============================] - 0s 24ms/step - loss: 320.2906 - val_loss: 741.0431\n",
            "Epoch 200/200\n",
            "4/4 [==============================] - 0s 24ms/step - loss: 322.0729 - val_loss: 740.4702\n"
          ]
        }
      ]
    },
    {
      "cell_type": "code",
      "source": [
        "plt.plot(history.history['loss'][20:], label=\"loss\")\n",
        "plt.plot(history.history['val_loss'][20:], label=\"val_loss\")\n",
        "plt.legend()\n",
        "plt.grid()"
      ],
      "metadata": {
        "id": "VbXJl-rA7D7m",
        "colab": {
          "base_uri": "https://localhost:8080/",
          "height": 265
        },
        "outputId": "04ff8d2c-e75d-40a0-a12f-dad86cfddafe"
      },
      "id": "VbXJl-rA7D7m",
      "execution_count": 10,
      "outputs": [
        {
          "output_type": "display_data",
          "data": {
            "image/png": "[encoded data removed]",
            "text/plain": [
              "<Figure size 432x288 with 1 Axes>"
            ]
          },
          "metadata": {
            "needs_background": "light"
          }
        }
      ]
    },
    {
      "cell_type": "code",
      "source": [
        "fig, (ax1, ax2, ax3) = plt.subplots(nrows=1,ncols=3, figsize = (15,15))\n",
        "ax1.imshow(X_test[2:3][0][:,:,:])\n",
        "ax1.set_title(\"Input\")\n",
        "ax2.imshow(y_test[2:3][0][:,:,:])\n",
        "ax2.set_title(\"Ground truth\")\n",
        "ax3.imshow(model.predict(X_test[2:3])[0][:,:,:])\n",
        "ax3.set_title(\"Predicted\")"
      ],
      "metadata": {
        "colab": {
          "base_uri": "https://localhost:8080/",
          "height": 379
        },
        "id": "cvCxNqhrC-jf",
        "outputId": "aaf6d5bc-e45d-4df2-f7af-760e884e88d5"
      },
      "id": "cvCxNqhrC-jf",
      "execution_count": 12,
      "outputs": [
        {
          "output_type": "stream",
          "name": "stderr",
          "text": [
            "Clipping input data to the valid range for imshow with RGB data ([0..1] for floats or [0..255] for integers).\n",
            "Clipping input data to the valid range for imshow with RGB data ([0..1] for floats or [0..255] for integers).\n",
            "Clipping input data to the valid range for imshow with RGB data ([0..1] for floats or [0..255] for integers).\n"
          ]
        },
        {
          "output_type": "execute_result",
          "data": {
            "text/plain": [
              "Text(0.5, 1.0, 'Predicted')"
            ]
          },
          "metadata": {},
          "execution_count": 12
        },
        {
          "output_type": "display_data",
          "data": {
            "image/png": "[encoded data removed]",
            "text/plain": [
              "<Figure size 1080x1080 with 3 Axes>"
            ]
          },
          "metadata": {
            "needs_background": "light"
          }
        }
      ]
    },
    {
      "cell_type": "code",
      "source": [
        ""
      ],
      "metadata": {
        "id": "a2JeZDnIDLtd"
      },
      "id": "a2JeZDnIDLtd",
      "execution_count": null,
      "outputs": []
    }
  ],
  "metadata": {
    "kernelspec": {
      "display_name": "Python 3",
      "language": "python",
      "name": "python3"
    },
    "language_info": {
      "codemirror_mode": {
        "name": "ipython",
        "version": 3
      },
      "file_extension": ".py",
      "mimetype": "text/x-python",
      "name": "python",
      "nbconvert_exporter": "python",
      "pygments_lexer": "ipython3",
      "version": "3.7.7"
    },
    "colab": {
      "name": "Sharpen.ipynb",
      "provenance": []
    },
    "accelerator": "GPU"
  },
  "nbformat": 4,
  "nbformat_minor": 5
}